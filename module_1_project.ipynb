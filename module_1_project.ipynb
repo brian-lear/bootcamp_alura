{
  "nbformat": 4,
  "nbformat_minor": 0,
  "metadata": {
    "colab": {
      "name": "Brian Lear.ipynb",
      "provenance": [],
      "include_colab_link": true
    },
    "kernelspec": {
      "name": "python3",
      "display_name": "Python 3"
    }
  },
  "cells": [
    {
      "cell_type": "markdown",
      "metadata": {
        "id": "view-in-github",
        "colab_type": "text"
      },
      "source": [
        "<a href=\"https://colab.research.google.com/github/brian-lear/bootcamp_alura/blob/main/Brian_Lear.ipynb\" target=\"_parent\"><img src=\"https://colab.research.google.com/assets/colab-badge.svg\" alt=\"Open In Colab\"/></a>"
      ]
    },
    {
      "cell_type": "markdown",
      "metadata": {
        "id": "E27fQer3E8K9"
      },
      "source": [
        "Olá **Cientista**!\n",
        "\n",
        "Bem vinda e bem vindo ao **mega desafio do Módulo 01**, neste desafio queremos que você aplique tudo que aprendeu no curso, analisando uma outra informação ~~referente a base de dados de [produção hospitalar](http://www2.datasus.gov.br/DATASUS/index.php?area=0202&id=11633&VObj=http://tabnet.datasus.gov.br/cgi/deftohtm.exe?sih/cnv/qi), seja número de internação, óbito, AIH ou taxa de mortalidade.~~ \n",
        "\n",
        "**P.S: Infelizmente o DataSUS está fora do ar por tempo indeterminado, para você não parar seu projeto, adicionamos no [GitHub](https://github.com/alura-cursos/agendamento-hospitalar/tree/main/dados) do curso, duas novas bases para você utilizar neste projeto (COVID-19 e Óbitos).**\n",
        "\n",
        "Uma base é dos **casos de COVID-19 baixadas do projeto [BRASIL.IO](https://brasil.io/dataset/covid19/caso/)**, outra são os números de óbitos registrados no cartório civil desde 1970 retirado do **[Kaggle](https://www.kaggle.com/amandalk/registered-deaths-brazil)**.\n",
        "\n",
        "Vocês podem escolher qualquer uma das duas bases de dados, a de COVID-19 é mais desafiadora e você vai precisar descompactar o arquivo por ser grande e entrar no site do Brasil.IO para entender todas as features presentes (No Brasil.IO tem diversas bases sobre COVID-19, estamos usando a chamada **Casos**). A base de óbito é mais simples e relativamente semelhate a utilizada no curso.\n",
        "\n",
        "Algumas dicas para você mandar bem no desafio final, capriche nas análises, escreva suas conclusões e hipóteses (mesmo que resultado seja inconclusivo) e não esqueça de colocar um resumo dos pontos que julgar mais interessantes do seu projeto.\n",
        "\n",
        "\n",
        "\n",
        "E para que o seu projeto tenha a oportunidade de ser avalido pelo Thiago G. Santos e Átila Iamarino, ao vivo na **live de revisão de projetos** submeta o link compartilhado do seu notebook [neste formulário](https://docs.google.com/forms/d/e/1FAIpQLSd1jemhvdo8sM6e-bgOryyZ2P3YuMO6E_mUQXabyBX_xhuZQQ/viewform?usp=sf_link) até dia 22/11 às 23h59.\n",
        "\n",
        "Para facilitar a vida dos seus instrutores favoritos, no momento da correção, algumas dicas de como estruturar seu projeto:\n",
        "\n",
        "- Como título do seu **Colab** coloque seu nome (Ex: Thiago_Gonçalves.ipynb)\n",
        "- Crie um resumo das suas análises na parte superior do notebook\n",
        "- Informe no resumo os dados que vc vai analisar (Ex: Finaceiros e Internações)\n",
        "\n",
        "Qualquer dúvida não deixe de perguntar no Discord, compatilhe seu projeto nas redes sociais e crie um repositório no github, esse é o início do seu portifólio em Data Science.\n",
        "\n",
        "\n",
        "\n",
        "Fique a vontade para utilizar esse notebook como template projeto.\n",
        "\n"
      ]
    },
    {
      "cell_type": "markdown",
      "metadata": {
        "id": "RshO3GgDFGhB"
      },
      "source": [
        "## **Resumo:**"
      ]
    },
    {
      "cell_type": "markdown",
      "metadata": {
        "id": "DMKQfzCAr_-2"
      },
      "source": [
        "Analisando a cidade de São Paulo, e comparando-a com outras cidades do Brasil, podemos ver que mesmo ela apresentando valores absolutos maiores de confirmados e mortes, ela se encontra relativamente melhor que outras cidades populosas do Brasil.\n",
        "\n",
        "Para analisar esse fato, usei a métrica de Mortalidade por 100k habitantes, fazendo com que as cidades tivessem uma base comparativa mais justa entre elas. No universo de cidades que tenham mais de 1 milhão de habitantes e mais de 10 mil casos confirmados, a cidade de São Paulo se encontra em 5º lugar, com 0.04, enquanto o primeiro lugar, Rio de Janeiro, tem uma taxa de 0.11, mais que o dobro de São Paulo.\n",
        "\n",
        "Com esta análise não conseguimos identificar os motivos por trás dessa mortalidade, mas fatores como políticas públicas (como fechamento de comércio, parques e escolas), isolamento social da população e uso de máscaras (o que limitaria a exposição e levaria a uma carga viral menor nos casos confirmados), e uma infraestrutura hospitalar melhor (o que levaria a mais casos de sucesso no tratamento da doença), são alguns dos fatores que poderiam explicar essa diferença."
      ]
    },
    {
      "cell_type": "markdown",
      "metadata": {
        "id": "3VonzVP276wt"
      },
      "source": [
        "## Preparando os dados"
      ]
    },
    {
      "cell_type": "code",
      "metadata": {
        "id": "VNiSQusmiG-q",
        "colab": {
          "base_uri": "https://localhost:8080/"
        },
        "outputId": "7ce6f38b-441d-4960-844e-292f29f6995b"
      },
      "source": [
        "from google.colab import drive\n",
        "drive.mount('/content/drive')"
      ],
      "execution_count": null,
      "outputs": [
        {
          "output_type": "stream",
          "text": [
            "Drive already mounted at /content/drive; to attempt to forcibly remount, call drive.mount(\"/content/drive\", force_remount=True).\n"
          ],
          "name": "stdout"
        }
      ]
    },
    {
      "cell_type": "code",
      "metadata": {
        "id": "zw4S_LkkFNa2"
      },
      "source": [
        "import numpy as np\n",
        "import pandas as pd\n",
        "import matplotlib.pyplot as plt\n",
        "import matplotlib.ticker as ticker\n",
        "import seaborn as sns"
      ],
      "execution_count": null,
      "outputs": []
    },
    {
      "cell_type": "code",
      "metadata": {
        "id": "wWHrc23HMW07",
        "colab": {
          "base_uri": "https://localhost:8080/",
          "height": 204
        },
        "outputId": "5b782a6a-8a59-4f32-fe0d-75fb2e137079"
      },
      "source": [
        "# usei a base de 'caso.csv' do brasil.io\n",
        "\n",
        "df = pd.read_csv('/content/drive/My Drive/Colab Notebooks/caso.csv')\n",
        "df.head()"
      ],
      "execution_count": null,
      "outputs": [
        {
          "output_type": "execute_result",
          "data": {
            "text/html": [
              "<div>\n",
              "<style scoped>\n",
              "    .dataframe tbody tr th:only-of-type {\n",
              "        vertical-align: middle;\n",
              "    }\n",
              "\n",
              "    .dataframe tbody tr th {\n",
              "        vertical-align: top;\n",
              "    }\n",
              "\n",
              "    .dataframe thead th {\n",
              "        text-align: right;\n",
              "    }\n",
              "</style>\n",
              "<table border=\"1\" class=\"dataframe\">\n",
              "  <thead>\n",
              "    <tr style=\"text-align: right;\">\n",
              "      <th></th>\n",
              "      <th>date</th>\n",
              "      <th>state</th>\n",
              "      <th>city</th>\n",
              "      <th>place_type</th>\n",
              "      <th>confirmed</th>\n",
              "      <th>deaths</th>\n",
              "      <th>order_for_place</th>\n",
              "      <th>is_last</th>\n",
              "      <th>estimated_population_2019</th>\n",
              "      <th>estimated_population</th>\n",
              "      <th>city_ibge_code</th>\n",
              "      <th>confirmed_per_100k_inhabitants</th>\n",
              "      <th>death_rate</th>\n",
              "    </tr>\n",
              "  </thead>\n",
              "  <tbody>\n",
              "    <tr>\n",
              "      <th>0</th>\n",
              "      <td>2020-11-05</td>\n",
              "      <td>AC</td>\n",
              "      <td>NaN</td>\n",
              "      <td>state</td>\n",
              "      <td>31248</td>\n",
              "      <td>697</td>\n",
              "      <td>234</td>\n",
              "      <td>True</td>\n",
              "      <td>881935.0</td>\n",
              "      <td>894470.0</td>\n",
              "      <td>12.0</td>\n",
              "      <td>3493.46540</td>\n",
              "      <td>0.0223</td>\n",
              "    </tr>\n",
              "    <tr>\n",
              "      <th>1</th>\n",
              "      <td>2020-11-04</td>\n",
              "      <td>AC</td>\n",
              "      <td>NaN</td>\n",
              "      <td>state</td>\n",
              "      <td>31218</td>\n",
              "      <td>696</td>\n",
              "      <td>233</td>\n",
              "      <td>False</td>\n",
              "      <td>881935.0</td>\n",
              "      <td>894470.0</td>\n",
              "      <td>12.0</td>\n",
              "      <td>3490.11146</td>\n",
              "      <td>0.0223</td>\n",
              "    </tr>\n",
              "    <tr>\n",
              "      <th>2</th>\n",
              "      <td>2020-11-03</td>\n",
              "      <td>AC</td>\n",
              "      <td>NaN</td>\n",
              "      <td>state</td>\n",
              "      <td>30962</td>\n",
              "      <td>695</td>\n",
              "      <td>232</td>\n",
              "      <td>False</td>\n",
              "      <td>881935.0</td>\n",
              "      <td>894470.0</td>\n",
              "      <td>12.0</td>\n",
              "      <td>3461.49116</td>\n",
              "      <td>0.0224</td>\n",
              "    </tr>\n",
              "    <tr>\n",
              "      <th>3</th>\n",
              "      <td>2020-11-02</td>\n",
              "      <td>AC</td>\n",
              "      <td>NaN</td>\n",
              "      <td>state</td>\n",
              "      <td>30954</td>\n",
              "      <td>693</td>\n",
              "      <td>231</td>\n",
              "      <td>False</td>\n",
              "      <td>881935.0</td>\n",
              "      <td>894470.0</td>\n",
              "      <td>12.0</td>\n",
              "      <td>3460.59678</td>\n",
              "      <td>0.0224</td>\n",
              "    </tr>\n",
              "    <tr>\n",
              "      <th>4</th>\n",
              "      <td>2020-11-01</td>\n",
              "      <td>AC</td>\n",
              "      <td>NaN</td>\n",
              "      <td>state</td>\n",
              "      <td>30951</td>\n",
              "      <td>693</td>\n",
              "      <td>230</td>\n",
              "      <td>False</td>\n",
              "      <td>881935.0</td>\n",
              "      <td>894470.0</td>\n",
              "      <td>12.0</td>\n",
              "      <td>3460.26138</td>\n",
              "      <td>0.0224</td>\n",
              "    </tr>\n",
              "  </tbody>\n",
              "</table>\n",
              "</div>"
            ],
            "text/plain": [
              "         date state  ... confirmed_per_100k_inhabitants death_rate\n",
              "0  2020-11-05    AC  ...                     3493.46540     0.0223\n",
              "1  2020-11-04    AC  ...                     3490.11146     0.0223\n",
              "2  2020-11-03    AC  ...                     3461.49116     0.0224\n",
              "3  2020-11-02    AC  ...                     3460.59678     0.0224\n",
              "4  2020-11-01    AC  ...                     3460.26138     0.0224\n",
              "\n",
              "[5 rows x 13 columns]"
            ]
          },
          "metadata": {
            "tags": []
          },
          "execution_count": 27
        }
      ]
    },
    {
      "cell_type": "code",
      "metadata": {
        "colab": {
          "base_uri": "https://localhost:8080/"
        },
        "id": "PSyhVyf_mf_t",
        "outputId": "b30704dc-ea6a-4665-d0b8-195ad436c0e8"
      },
      "source": [
        "df['date'] = pd.to_datetime(df['date'])\n",
        "df['week_number'] = df['date'].dt.isocalendar().week\n",
        "df['week_number']"
      ],
      "execution_count": null,
      "outputs": [
        {
          "output_type": "execute_result",
          "data": {
            "text/plain": [
              "0         45\n",
              "1         45\n",
              "2         45\n",
              "3         45\n",
              "4         44\n",
              "          ..\n",
              "936865    26\n",
              "936866    26\n",
              "936867    25\n",
              "936868    25\n",
              "936869    25\n",
              "Name: week_number, Length: 936870, dtype: UInt32"
            ]
          },
          "metadata": {
            "tags": []
          },
          "execution_count": 17
        }
      ]
    },
    {
      "cell_type": "code",
      "metadata": {
        "id": "jrwBi7IBz3mN",
        "colab": {
          "base_uri": "https://localhost:8080/",
          "height": 204
        },
        "outputId": "acad68be-fc86-45fc-d2f7-22e20da7ad64"
      },
      "source": [
        "# Criando a coluna de Semana, para facilitar a visualização dos Plots\n",
        "\n",
        "df['date'] = pd.to_datetime(df['date'])\n",
        "df['week_number'] = df['date'].dt.isocalendar().week\n",
        "\n",
        "# criando uma nova métrica, mortalidade por 100k habitantes.\n",
        "\n",
        "df['deaths_per_100k_inhabitants'] = df['deaths'] * 100000 / df['estimated_population']\n",
        "df['death_rate_per_100k_inhabitants'] = df['deaths_per_100k_inhabitants'] / df['confirmed_per_100k_inhabitants']\n",
        "\n",
        "df.head()"
      ],
      "execution_count": null,
      "outputs": [
        {
          "output_type": "execute_result",
          "data": {
            "text/html": [
              "<div>\n",
              "<style scoped>\n",
              "    .dataframe tbody tr th:only-of-type {\n",
              "        vertical-align: middle;\n",
              "    }\n",
              "\n",
              "    .dataframe tbody tr th {\n",
              "        vertical-align: top;\n",
              "    }\n",
              "\n",
              "    .dataframe thead th {\n",
              "        text-align: right;\n",
              "    }\n",
              "</style>\n",
              "<table border=\"1\" class=\"dataframe\">\n",
              "  <thead>\n",
              "    <tr style=\"text-align: right;\">\n",
              "      <th></th>\n",
              "      <th>date</th>\n",
              "      <th>state</th>\n",
              "      <th>city</th>\n",
              "      <th>place_type</th>\n",
              "      <th>confirmed</th>\n",
              "      <th>deaths</th>\n",
              "      <th>order_for_place</th>\n",
              "      <th>is_last</th>\n",
              "      <th>estimated_population_2019</th>\n",
              "      <th>estimated_population</th>\n",
              "      <th>city_ibge_code</th>\n",
              "      <th>confirmed_per_100k_inhabitants</th>\n",
              "      <th>death_rate</th>\n",
              "      <th>week_number</th>\n",
              "      <th>deaths_per_100k_inhabitants</th>\n",
              "      <th>death_rate_per_100k_inhabitants</th>\n",
              "    </tr>\n",
              "  </thead>\n",
              "  <tbody>\n",
              "    <tr>\n",
              "      <th>0</th>\n",
              "      <td>2020-11-05</td>\n",
              "      <td>AC</td>\n",
              "      <td>NaN</td>\n",
              "      <td>state</td>\n",
              "      <td>31248</td>\n",
              "      <td>697</td>\n",
              "      <td>234</td>\n",
              "      <td>True</td>\n",
              "      <td>881935.0</td>\n",
              "      <td>894470.0</td>\n",
              "      <td>12.0</td>\n",
              "      <td>3493.46540</td>\n",
              "      <td>0.0223</td>\n",
              "      <td>45</td>\n",
              "      <td>77.923239</td>\n",
              "      <td>0.022305</td>\n",
              "    </tr>\n",
              "    <tr>\n",
              "      <th>1</th>\n",
              "      <td>2020-11-04</td>\n",
              "      <td>AC</td>\n",
              "      <td>NaN</td>\n",
              "      <td>state</td>\n",
              "      <td>31218</td>\n",
              "      <td>696</td>\n",
              "      <td>233</td>\n",
              "      <td>False</td>\n",
              "      <td>881935.0</td>\n",
              "      <td>894470.0</td>\n",
              "      <td>12.0</td>\n",
              "      <td>3490.11146</td>\n",
              "      <td>0.0223</td>\n",
              "      <td>45</td>\n",
              "      <td>77.811441</td>\n",
              "      <td>0.022295</td>\n",
              "    </tr>\n",
              "    <tr>\n",
              "      <th>2</th>\n",
              "      <td>2020-11-03</td>\n",
              "      <td>AC</td>\n",
              "      <td>NaN</td>\n",
              "      <td>state</td>\n",
              "      <td>30962</td>\n",
              "      <td>695</td>\n",
              "      <td>232</td>\n",
              "      <td>False</td>\n",
              "      <td>881935.0</td>\n",
              "      <td>894470.0</td>\n",
              "      <td>12.0</td>\n",
              "      <td>3461.49116</td>\n",
              "      <td>0.0224</td>\n",
              "      <td>45</td>\n",
              "      <td>77.699643</td>\n",
              "      <td>0.022447</td>\n",
              "    </tr>\n",
              "    <tr>\n",
              "      <th>3</th>\n",
              "      <td>2020-11-02</td>\n",
              "      <td>AC</td>\n",
              "      <td>NaN</td>\n",
              "      <td>state</td>\n",
              "      <td>30954</td>\n",
              "      <td>693</td>\n",
              "      <td>231</td>\n",
              "      <td>False</td>\n",
              "      <td>881935.0</td>\n",
              "      <td>894470.0</td>\n",
              "      <td>12.0</td>\n",
              "      <td>3460.59678</td>\n",
              "      <td>0.0224</td>\n",
              "      <td>45</td>\n",
              "      <td>77.476047</td>\n",
              "      <td>0.022388</td>\n",
              "    </tr>\n",
              "    <tr>\n",
              "      <th>4</th>\n",
              "      <td>2020-11-01</td>\n",
              "      <td>AC</td>\n",
              "      <td>NaN</td>\n",
              "      <td>state</td>\n",
              "      <td>30951</td>\n",
              "      <td>693</td>\n",
              "      <td>230</td>\n",
              "      <td>False</td>\n",
              "      <td>881935.0</td>\n",
              "      <td>894470.0</td>\n",
              "      <td>12.0</td>\n",
              "      <td>3460.26138</td>\n",
              "      <td>0.0224</td>\n",
              "      <td>44</td>\n",
              "      <td>77.476047</td>\n",
              "      <td>0.022390</td>\n",
              "    </tr>\n",
              "  </tbody>\n",
              "</table>\n",
              "</div>"
            ],
            "text/plain": [
              "        date  ... death_rate_per_100k_inhabitants\n",
              "0 2020-11-05  ...                        0.022305\n",
              "1 2020-11-04  ...                        0.022295\n",
              "2 2020-11-03  ...                        0.022447\n",
              "3 2020-11-02  ...                        0.022388\n",
              "4 2020-11-01  ...                        0.022390\n",
              "\n",
              "[5 rows x 16 columns]"
            ]
          },
          "metadata": {
            "tags": []
          },
          "execution_count": 28
        }
      ]
    },
    {
      "cell_type": "code",
      "metadata": {
        "id": "B5nSewkbj8pz"
      },
      "source": [
        "# Criando uma coluna das regiões do Brasil\n",
        "\n",
        "df.loc[(df['state']=='AC')|(df['state']=='AP')|(df['state']=='AM')|(df['state']=='PA')|(df['state']=='RO')|(df['state']=='RR')|(df['state']=='TO'),'region'] = 'N'\n",
        "df.loc[(df['state']=='AL')|(df['state']=='BA')|(df['state']=='CE')|(df['state']=='MA')|(df['state']=='PB')|(df['state']=='PE')|(df['state']=='PI')|(df['state']=='RN')|(df['state']=='SE'),'region'] = 'NE'\n",
        "df.loc[(df['state']=='DF')|(df['state']=='GO')|(df['state']=='MS')|(df['state']=='MT'),'region'] = 'CO'\n",
        "df.loc[(df['state']=='ES')|(df['state']=='MG')|(df['state']=='RJ')|(df['state']=='SP'),'region'] = 'SE'\n",
        "df.loc[(df['state']=='PR')|(df['state']=='SC')|(df['state']=='RS'),'region'] = 'S'"
      ],
      "execution_count": null,
      "outputs": []
    },
    {
      "cell_type": "code",
      "metadata": {
        "id": "amHZayyb_zEc",
        "colab": {
          "base_uri": "https://localhost:8080/",
          "height": 235
        },
        "outputId": "6da59ea8-02b3-4361-d3f8-b943f73b03a0"
      },
      "source": [
        "# Criando um dataframe contendo somente as informações mais recentes por UF, tendo assim uma foto do dado mais atual\n",
        "\n",
        "df_states_current = df[(df['is_last']==True) & (df['place_type']=='state')][['state','confirmed','deaths','estimated_population','confirmed_per_100k_inhabitants','death_rate','region','deaths_per_100k_inhabitants','death_rate_per_100k_inhabitants']]\n",
        "df_states_current.index = df_states_current['state']\n",
        "df_states_current = df_states_current.drop(columns=['state'])\n",
        "\n",
        "df_states_current = df_states_current.sort_values(['death_rate_per_100k_inhabitants'],ascending = False)\n",
        "df_states_current.head()"
      ],
      "execution_count": null,
      "outputs": [
        {
          "output_type": "execute_result",
          "data": {
            "text/html": [
              "<div>\n",
              "<style scoped>\n",
              "    .dataframe tbody tr th:only-of-type {\n",
              "        vertical-align: middle;\n",
              "    }\n",
              "\n",
              "    .dataframe tbody tr th {\n",
              "        vertical-align: top;\n",
              "    }\n",
              "\n",
              "    .dataframe thead th {\n",
              "        text-align: right;\n",
              "    }\n",
              "</style>\n",
              "<table border=\"1\" class=\"dataframe\">\n",
              "  <thead>\n",
              "    <tr style=\"text-align: right;\">\n",
              "      <th></th>\n",
              "      <th>confirmed</th>\n",
              "      <th>deaths</th>\n",
              "      <th>estimated_population</th>\n",
              "      <th>confirmed_per_100k_inhabitants</th>\n",
              "      <th>death_rate</th>\n",
              "      <th>region</th>\n",
              "      <th>deaths_per_100k_inhabitants</th>\n",
              "      <th>death_rate_per_100k_inhabitants</th>\n",
              "    </tr>\n",
              "    <tr>\n",
              "      <th>state</th>\n",
              "      <th></th>\n",
              "      <th></th>\n",
              "      <th></th>\n",
              "      <th></th>\n",
              "      <th></th>\n",
              "      <th></th>\n",
              "      <th></th>\n",
              "      <th></th>\n",
              "    </tr>\n",
              "  </thead>\n",
              "  <tbody>\n",
              "    <tr>\n",
              "      <th>RJ</th>\n",
              "      <td>313843</td>\n",
              "      <td>20849</td>\n",
              "      <td>17366189.0</td>\n",
              "      <td>1807.20710</td>\n",
              "      <td>0.0664</td>\n",
              "      <td>SE</td>\n",
              "      <td>120.055126</td>\n",
              "      <td>0.066431</td>\n",
              "    </tr>\n",
              "    <tr>\n",
              "      <th>PE</th>\n",
              "      <td>164222</td>\n",
              "      <td>8687</td>\n",
              "      <td>9616621.0</td>\n",
              "      <td>1707.68922</td>\n",
              "      <td>0.0529</td>\n",
              "      <td>NE</td>\n",
              "      <td>90.333185</td>\n",
              "      <td>0.052898</td>\n",
              "    </tr>\n",
              "    <tr>\n",
              "      <th>SP</th>\n",
              "      <td>1125936</td>\n",
              "      <td>39717</td>\n",
              "      <td>46289333.0</td>\n",
              "      <td>2432.38761</td>\n",
              "      <td>0.0353</td>\n",
              "      <td>SE</td>\n",
              "      <td>85.801625</td>\n",
              "      <td>0.035275</td>\n",
              "    </tr>\n",
              "    <tr>\n",
              "      <th>CE</th>\n",
              "      <td>277072</td>\n",
              "      <td>9392</td>\n",
              "      <td>9187103.0</td>\n",
              "      <td>3015.87998</td>\n",
              "      <td>0.0339</td>\n",
              "      <td>NE</td>\n",
              "      <td>102.230268</td>\n",
              "      <td>0.033897</td>\n",
              "    </tr>\n",
              "    <tr>\n",
              "      <th>RN</th>\n",
              "      <td>82420</td>\n",
              "      <td>2603</td>\n",
              "      <td>3534165.0</td>\n",
              "      <td>2332.09259</td>\n",
              "      <td>0.0316</td>\n",
              "      <td>NE</td>\n",
              "      <td>73.652475</td>\n",
              "      <td>0.031582</td>\n",
              "    </tr>\n",
              "  </tbody>\n",
              "</table>\n",
              "</div>"
            ],
            "text/plain": [
              "       confirmed  ...  death_rate_per_100k_inhabitants\n",
              "state             ...                                 \n",
              "RJ        313843  ...                         0.066431\n",
              "PE        164222  ...                         0.052898\n",
              "SP       1125936  ...                         0.035275\n",
              "CE        277072  ...                         0.033897\n",
              "RN         82420  ...                         0.031582\n",
              "\n",
              "[5 rows x 8 columns]"
            ]
          },
          "metadata": {
            "tags": []
          },
          "execution_count": 30
        }
      ]
    },
    {
      "cell_type": "code",
      "metadata": {
        "id": "XO5Y5RHdjhBl",
        "colab": {
          "base_uri": "https://localhost:8080/",
          "height": 235
        },
        "outputId": "879c0102-4f32-44e5-ae56-b288c4b02407"
      },
      "source": [
        "# Criando um dataframe contendo somente as informações mais recentes por Região, tendo assim uma foto do dado mais atual\n",
        "\n",
        "df_region_current = df_states_current.copy()\n",
        "df_region_current.index = df_region_current['region']\n",
        "df_region_current = df_region_current.groupby(df_region_current.index).sum()\n",
        "\n",
        "# recalculando a métrica mortalidade por 100k habitantes para ter o valor por Região\n",
        "\n",
        "df_region_current['confirmed_per_100k_inhabitants'] = df_region_current['confirmed'] * 100000 / df_region_current['estimated_population']\n",
        "df_region_current['death_rate'] = df_region_current['deaths'] / df_region_current['confirmed']\n",
        "\n",
        "df_region_current['deaths_per_100k_inhabitants'] = df_region_current['deaths'] * 100000 / df_region_current['estimated_population']\n",
        "df_region_current['death_rate_per_100k_inhabitants'] = df_region_current['deaths_per_100k_inhabitants'] / df_region_current['confirmed_per_100k_inhabitants']\n",
        "\n",
        "df_region_current = df_region_current.sort_values(['death_rate_per_100k_inhabitants'],ascending = False)\n",
        "df_region_current.head()"
      ],
      "execution_count": null,
      "outputs": [
        {
          "output_type": "execute_result",
          "data": {
            "text/html": [
              "<div>\n",
              "<style scoped>\n",
              "    .dataframe tbody tr th:only-of-type {\n",
              "        vertical-align: middle;\n",
              "    }\n",
              "\n",
              "    .dataframe tbody tr th {\n",
              "        vertical-align: top;\n",
              "    }\n",
              "\n",
              "    .dataframe thead th {\n",
              "        text-align: right;\n",
              "    }\n",
              "</style>\n",
              "<table border=\"1\" class=\"dataframe\">\n",
              "  <thead>\n",
              "    <tr style=\"text-align: right;\">\n",
              "      <th></th>\n",
              "      <th>confirmed</th>\n",
              "      <th>deaths</th>\n",
              "      <th>estimated_population</th>\n",
              "      <th>confirmed_per_100k_inhabitants</th>\n",
              "      <th>death_rate</th>\n",
              "      <th>deaths_per_100k_inhabitants</th>\n",
              "      <th>death_rate_per_100k_inhabitants</th>\n",
              "    </tr>\n",
              "    <tr>\n",
              "      <th>region</th>\n",
              "      <th></th>\n",
              "      <th></th>\n",
              "      <th></th>\n",
              "      <th></th>\n",
              "      <th></th>\n",
              "      <th></th>\n",
              "      <th></th>\n",
              "    </tr>\n",
              "  </thead>\n",
              "  <tbody>\n",
              "    <tr>\n",
              "      <th>SE</th>\n",
              "      <td>1964133</td>\n",
              "      <td>73590</td>\n",
              "      <td>89012240.0</td>\n",
              "      <td>2206.587543</td>\n",
              "      <td>0.037467</td>\n",
              "      <td>82.674023</td>\n",
              "      <td>0.037467</td>\n",
              "    </tr>\n",
              "    <tr>\n",
              "      <th>NE</th>\n",
              "      <td>1495950</td>\n",
              "      <td>42600</td>\n",
              "      <td>57374243.0</td>\n",
              "      <td>2607.354663</td>\n",
              "      <td>0.028477</td>\n",
              "      <td>74.249346</td>\n",
              "      <td>0.028477</td>\n",
              "    </tr>\n",
              "    <tr>\n",
              "      <th>N</th>\n",
              "      <td>711398</td>\n",
              "      <td>16107</td>\n",
              "      <td>18672591.0</td>\n",
              "      <td>3809.851563</td>\n",
              "      <td>0.022641</td>\n",
              "      <td>86.260123</td>\n",
              "      <td>0.022641</td>\n",
              "    </tr>\n",
              "    <tr>\n",
              "      <th>CO</th>\n",
              "      <td>704348</td>\n",
              "      <td>15122</td>\n",
              "      <td>16504303.0</td>\n",
              "      <td>4267.662803</td>\n",
              "      <td>0.021470</td>\n",
              "      <td>91.624590</td>\n",
              "      <td>0.021470</td>\n",
              "    </tr>\n",
              "    <tr>\n",
              "      <th>S</th>\n",
              "      <td>740647</td>\n",
              "      <td>14420</td>\n",
              "      <td>30192315.0</td>\n",
              "      <td>2453.097750</td>\n",
              "      <td>0.019469</td>\n",
              "      <td>47.760498</td>\n",
              "      <td>0.019469</td>\n",
              "    </tr>\n",
              "  </tbody>\n",
              "</table>\n",
              "</div>"
            ],
            "text/plain": [
              "        confirmed  ...  death_rate_per_100k_inhabitants\n",
              "region             ...                                 \n",
              "SE        1964133  ...                         0.037467\n",
              "NE        1495950  ...                         0.028477\n",
              "N          711398  ...                         0.022641\n",
              "CO         704348  ...                         0.021470\n",
              "S          740647  ...                         0.019469\n",
              "\n",
              "[5 rows x 7 columns]"
            ]
          },
          "metadata": {
            "tags": []
          },
          "execution_count": 31
        }
      ]
    },
    {
      "cell_type": "code",
      "metadata": {
        "id": "9AoXwp8uZdbL",
        "colab": {
          "base_uri": "https://localhost:8080/",
          "height": 320
        },
        "outputId": "1ebd4ea2-fa53-45f0-a7a2-681e1ee420fc"
      },
      "source": [
        "# Criando um dataframe contendo somente as informações mais recentes por cidade\n",
        "df_cities_current = df.copy()\n",
        "df_cities_current = df_cities_current[(df_cities_current['place_type'] == 'city') & (df_cities_current['is_last'] == True)]\n",
        "\n",
        "df_cities_current = df_cities_current.sort_values('death_rate_per_100k_inhabitants', ascending = False)\n",
        "df_cities_current.index = df_cities_current['city']\n",
        "\n",
        "# criando uma coluna 'city_col' para poder tratar cidade como index ou coluna\n",
        "df_cities_current = df_cities_current.rename(columns={\"city\": \"city_col\"})\n",
        "\n",
        "df_cities_current.head()"
      ],
      "execution_count": null,
      "outputs": [
        {
          "output_type": "execute_result",
          "data": {
            "text/html": [
              "<div>\n",
              "<style scoped>\n",
              "    .dataframe tbody tr th:only-of-type {\n",
              "        vertical-align: middle;\n",
              "    }\n",
              "\n",
              "    .dataframe tbody tr th {\n",
              "        vertical-align: top;\n",
              "    }\n",
              "\n",
              "    .dataframe thead th {\n",
              "        text-align: right;\n",
              "    }\n",
              "</style>\n",
              "<table border=\"1\" class=\"dataframe\">\n",
              "  <thead>\n",
              "    <tr style=\"text-align: right;\">\n",
              "      <th></th>\n",
              "      <th>date</th>\n",
              "      <th>state</th>\n",
              "      <th>city_col</th>\n",
              "      <th>place_type</th>\n",
              "      <th>confirmed</th>\n",
              "      <th>deaths</th>\n",
              "      <th>order_for_place</th>\n",
              "      <th>is_last</th>\n",
              "      <th>estimated_population_2019</th>\n",
              "      <th>estimated_population</th>\n",
              "      <th>city_ibge_code</th>\n",
              "      <th>confirmed_per_100k_inhabitants</th>\n",
              "      <th>death_rate</th>\n",
              "      <th>week_number</th>\n",
              "      <th>deaths_per_100k_inhabitants</th>\n",
              "      <th>death_rate_per_100k_inhabitants</th>\n",
              "      <th>region</th>\n",
              "    </tr>\n",
              "    <tr>\n",
              "      <th>city</th>\n",
              "      <th></th>\n",
              "      <th></th>\n",
              "      <th></th>\n",
              "      <th></th>\n",
              "      <th></th>\n",
              "      <th></th>\n",
              "      <th></th>\n",
              "      <th></th>\n",
              "      <th></th>\n",
              "      <th></th>\n",
              "      <th></th>\n",
              "      <th></th>\n",
              "      <th></th>\n",
              "      <th></th>\n",
              "      <th></th>\n",
              "      <th></th>\n",
              "      <th></th>\n",
              "    </tr>\n",
              "  </thead>\n",
              "  <tbody>\n",
              "    <tr>\n",
              "      <th>Casa Grande</th>\n",
              "      <td>2020-11-04</td>\n",
              "      <td>MG</td>\n",
              "      <td>Casa Grande</td>\n",
              "      <td>city</td>\n",
              "      <td>2</td>\n",
              "      <td>1</td>\n",
              "      <td>119</td>\n",
              "      <td>True</td>\n",
              "      <td>2257.0</td>\n",
              "      <td>2254.0</td>\n",
              "      <td>3114907.0</td>\n",
              "      <td>88.73114</td>\n",
              "      <td>0.5000</td>\n",
              "      <td>45</td>\n",
              "      <td>44.365572</td>\n",
              "      <td>0.500000</td>\n",
              "      <td>SE</td>\n",
              "    </tr>\n",
              "    <tr>\n",
              "      <th>Senador Modestino Gonçalves</th>\n",
              "      <td>2020-11-04</td>\n",
              "      <td>MG</td>\n",
              "      <td>Senador Modestino Gonçalves</td>\n",
              "      <td>city</td>\n",
              "      <td>2</td>\n",
              "      <td>1</td>\n",
              "      <td>144</td>\n",
              "      <td>True</td>\n",
              "      <td>4156.0</td>\n",
              "      <td>4105.0</td>\n",
              "      <td>3165909.0</td>\n",
              "      <td>48.72107</td>\n",
              "      <td>0.5000</td>\n",
              "      <td>45</td>\n",
              "      <td>24.360536</td>\n",
              "      <td>0.500000</td>\n",
              "      <td>SE</td>\n",
              "    </tr>\n",
              "    <tr>\n",
              "      <th>Ponte Branca</th>\n",
              "      <td>2020-08-10</td>\n",
              "      <td>MT</td>\n",
              "      <td>Ponte Branca</td>\n",
              "      <td>city</td>\n",
              "      <td>2</td>\n",
              "      <td>1</td>\n",
              "      <td>94</td>\n",
              "      <td>True</td>\n",
              "      <td>1576.0</td>\n",
              "      <td>1550.0</td>\n",
              "      <td>5106703.0</td>\n",
              "      <td>129.03226</td>\n",
              "      <td>0.5000</td>\n",
              "      <td>33</td>\n",
              "      <td>64.516129</td>\n",
              "      <td>0.500000</td>\n",
              "      <td>CO</td>\n",
              "    </tr>\n",
              "    <tr>\n",
              "      <th>Cajapió</th>\n",
              "      <td>2020-11-05</td>\n",
              "      <td>MA</td>\n",
              "      <td>Cajapió</td>\n",
              "      <td>city</td>\n",
              "      <td>5</td>\n",
              "      <td>2</td>\n",
              "      <td>214</td>\n",
              "      <td>True</td>\n",
              "      <td>11177.0</td>\n",
              "      <td>11216.0</td>\n",
              "      <td>2102408.0</td>\n",
              "      <td>44.57917</td>\n",
              "      <td>0.4000</td>\n",
              "      <td>45</td>\n",
              "      <td>17.831669</td>\n",
              "      <td>0.400000</td>\n",
              "      <td>NE</td>\n",
              "    </tr>\n",
              "    <tr>\n",
              "      <th>Materlândia</th>\n",
              "      <td>2020-11-04</td>\n",
              "      <td>MG</td>\n",
              "      <td>Materlândia</td>\n",
              "      <td>city</td>\n",
              "      <td>3</td>\n",
              "      <td>1</td>\n",
              "      <td>154</td>\n",
              "      <td>True</td>\n",
              "      <td>4459.0</td>\n",
              "      <td>4436.0</td>\n",
              "      <td>3140605.0</td>\n",
              "      <td>67.62849</td>\n",
              "      <td>0.3333</td>\n",
              "      <td>45</td>\n",
              "      <td>22.542831</td>\n",
              "      <td>0.333333</td>\n",
              "      <td>SE</td>\n",
              "    </tr>\n",
              "  </tbody>\n",
              "</table>\n",
              "</div>"
            ],
            "text/plain": [
              "                                  date  ... region\n",
              "city                                    ...       \n",
              "Casa Grande                 2020-11-04  ...     SE\n",
              "Senador Modestino Gonçalves 2020-11-04  ...     SE\n",
              "Ponte Branca                2020-08-10  ...     CO\n",
              "Cajapió                     2020-11-05  ...     NE\n",
              "Materlândia                 2020-11-04  ...     SE\n",
              "\n",
              "[5 rows x 17 columns]"
            ]
          },
          "metadata": {
            "tags": []
          },
          "execution_count": 32
        }
      ]
    },
    {
      "cell_type": "markdown",
      "metadata": {
        "id": "etl4XAtLY8ny"
      },
      "source": [
        "# **EDA**"
      ]
    },
    {
      "cell_type": "markdown",
      "metadata": {
        "id": "ofzsF2v4uD89"
      },
      "source": [
        "O objetivo da análise é ver se o fato da cidade de São Paulo ser a primeira em confirmados significa que a situação dela é menos favoravel, se comparado com as outras cidades do Brasil.\n",
        "\n",
        "Para tanto, analisar por confirmados ou mortes não seria justo, pois por ser mais populosa, a frequência de casos esperada seria naturalmente maior. Logo, a métrica a ser utilizada será a de Mortalidade por 100k habitantes, que seria a divisão dos Mortos por 100k habitantes pelos Confirmados por 100k habitantes.\n",
        "\n",
        "Isso visa mostrar que, mesmo tendo mais casos absolutos, a cidade de São Paulo possúi um cenário melhor,possivelmente causado por fatores como infraestrutura, políticas públicas, isolamento social, entre outros, se comparado com as outras cidades com 1 milhão de habitantes ou mais, isso sendo refletido na mortalidade por 100k hab. "
      ]
    },
    {
      "cell_type": "markdown",
      "metadata": {
        "id": "8tWhCXIdnUw4"
      },
      "source": [
        "## Por Região"
      ]
    },
    {
      "cell_type": "markdown",
      "metadata": {
        "id": "yHYPV50lvbZ1"
      },
      "source": [
        "Indo do Macro ao Micro, começamos com um panorâma por Região do Brasil. Podemos ver que o Sudeste (SE) é a Região com mais Confirmados, Mortes e Mortalidade por 100k hab, sendo o Centro-Oeste (CO) a região com mais Confirmados por 100k hab.\n",
        "\n",
        "Será que o SE é puxado por SP, ou será efeito de algum outro estado?"
      ]
    },
    {
      "cell_type": "code",
      "metadata": {
        "id": "CqivsoC7mu-5",
        "colab": {
          "base_uri": "https://localhost:8080/",
          "height": 463
        },
        "outputId": "32f69971-44ab-41a0-a285-3586ec92d8a2"
      },
      "source": [
        "fig = plt.figure()\n",
        "\n",
        "df_region_current = df_region_current.sort_values('confirmed',ascending = False)\n",
        "ax = df_region_current['confirmed'].plot(kind='bar',figsize=(12,7)).yaxis.set_major_formatter(ticker.StrMethodFormatter('{x:,}'))\n",
        "\n",
        "plt.title('Casos confirmados de COVID-19 por Região')\n",
        "display()"
      ],
      "execution_count": null,
      "outputs": [
        {
          "output_type": "display_data",
          "data": {
            "image/png": "[encoded data removed]",
            "text/plain": [
              "<Figure size 864x504 with 1 Axes>"
            ]
          },
          "metadata": {
            "tags": [],
            "needs_background": "light"
          }
        }
      ]
    },
    {
      "cell_type": "code",
      "metadata": {
        "id": "IOIyfB_Dm03S",
        "colab": {
          "base_uri": "https://localhost:8080/",
          "height": 463
        },
        "outputId": "5f7df4cf-e087-44b5-d315-0e84e5781740"
      },
      "source": [
        "fig = plt.figure()\n",
        "\n",
        "df_region_current = df_region_current.sort_values('deaths',ascending = False)\n",
        "df_region_current['deaths'].plot(kind='bar',figsize=(12,7)).yaxis.set_major_formatter(ticker.StrMethodFormatter('{x:,}'))\n",
        "\n",
        "plt.title('Mortes por COVID-19 por Região')\n",
        "display()"
      ],
      "execution_count": null,
      "outputs": [
        {
          "output_type": "display_data",
          "data": {
            "image/png": "[encoded data removed]",
            "text/plain": [
              "<Figure size 864x504 with 1 Axes>"
            ]
          },
          "metadata": {
            "tags": [],
            "needs_background": "light"
          }
        }
      ]
    },
    {
      "cell_type": "code",
      "metadata": {
        "id": "x42zsbiEnoNB",
        "colab": {
          "base_uri": "https://localhost:8080/",
          "height": 463
        },
        "outputId": "19374308-ebf7-4214-e3e7-fb60043fa472"
      },
      "source": [
        "fig = plt.figure()\n",
        "\n",
        "df_region_current = df_region_current.sort_values('confirmed_per_100k_inhabitants',ascending = False)\n",
        "df_region_current['confirmed_per_100k_inhabitants'].plot(kind='bar',figsize=(12,7)).yaxis.set_major_formatter(ticker.StrMethodFormatter('{x:,}'))\n",
        "\n",
        "plt.title('Confirmados (COVID-19) por 100k habit por Região')\n",
        "display()"
      ],
      "execution_count": null,
      "outputs": [
        {
          "output_type": "display_data",
          "data": {
            "image/png": "[encoded data removed]",
            "text/plain": [
              "<Figure size 864x504 with 1 Axes>"
            ]
          },
          "metadata": {
            "tags": [],
            "needs_background": "light"
          }
        }
      ]
    },
    {
      "cell_type": "code",
      "metadata": {
        "id": "DxJgocAxnor4",
        "colab": {
          "base_uri": "https://localhost:8080/",
          "height": 463
        },
        "outputId": "66055e60-1a9d-4a76-8d7f-cd656d1be128"
      },
      "source": [
        "fig = plt.figure()\n",
        "\n",
        "df_region_current = df_region_current.sort_values('death_rate_per_100k_inhabitants',ascending = False)\n",
        "df_region_current['death_rate_per_100k_inhabitants'].plot(kind='bar',figsize=(12,7)).yaxis.set_major_formatter(ticker.StrMethodFormatter('{x:,}'))\n",
        "\n",
        "plt.title('Mortalidade (COVID-19) por 100k habit por Região')\n",
        "display()"
      ],
      "execution_count": null,
      "outputs": [
        {
          "output_type": "display_data",
          "data": {
            "image/png": "[encoded data removed]",
            "text/plain": [
              "<Figure size 864x504 with 1 Axes>"
            ]
          },
          "metadata": {
            "tags": [],
            "needs_background": "light"
          }
        }
      ]
    },
    {
      "cell_type": "markdown",
      "metadata": {
        "id": "xLlgLphfnQOp"
      },
      "source": [
        "## Por UF"
      ]
    },
    {
      "cell_type": "markdown",
      "metadata": {
        "id": "LDaHIolLv3qG"
      },
      "source": [
        "Analisando as UFs, podemos ver que o estado de SP tem o maior número absoluto em Confirmados e Mortes, mas isso já era esperado por conta do tamanho da sua população. \n",
        "Porém, podemos ver como ele cai em posições se analisado por Confirmados por 100k hab [20º] ou Mortalidade por 100k hab [3º].\n",
        "A UF com a maior Mortalidade por 100k hab é o RJ, o que ajuda a explicar a primeira posição da Região SE neste quesito.\n",
        "\n",
        "Será que o estado de SP é puxado pela cidade de SP, ou será efeito de alguma outra cidade?"
      ]
    },
    {
      "cell_type": "code",
      "metadata": {
        "id": "aaf2eC1Cg0o7",
        "colab": {
          "base_uri": "https://localhost:8080/",
          "height": 465
        },
        "outputId": "4b8de4e9-a8bb-4a34-935e-be2f8487d3cf"
      },
      "source": [
        "fig = plt.figure()\n",
        "\n",
        "df_states_current = df_states_current.sort_values('confirmed',ascending = False)\n",
        "ax = df_states_current['confirmed'].plot(kind='bar',figsize=(12,7)).yaxis.set_major_formatter(ticker.StrMethodFormatter('{x:,}'))\n",
        "\n",
        "plt.title('Casos confirmados de COVID-19 por UF')\n",
        "display()"
      ],
      "execution_count": null,
      "outputs": [
        {
          "output_type": "display_data",
          "data": {
            "image/png": "[encoded data removed]",
            "text/plain": [
              "<Figure size 864x504 with 1 Axes>"
            ]
          },
          "metadata": {
            "tags": [],
            "needs_background": "light"
          }
        }
      ]
    },
    {
      "cell_type": "code",
      "metadata": {
        "id": "07CGix3ehCC2",
        "colab": {
          "base_uri": "https://localhost:8080/",
          "height": 465
        },
        "outputId": "553a2b03-0474-478b-864a-0d81ddc3b124"
      },
      "source": [
        "fig = plt.figure()\n",
        "\n",
        "df_states_current = df_states_current.sort_values('deaths',ascending = False)\n",
        "df_states_current['deaths'].plot(kind='bar',figsize=(12,7)).yaxis.set_major_formatter(ticker.StrMethodFormatter('{x:,}'))\n",
        "\n",
        "plt.title('Mortes por COVID-19 por UF')\n",
        "display()"
      ],
      "execution_count": null,
      "outputs": [
        {
          "output_type": "display_data",
          "data": {
            "image/png": "[encoded data removed]",
            "text/plain": [
              "<Figure size 864x504 with 1 Axes>"
            ]
          },
          "metadata": {
            "tags": [],
            "needs_background": "light"
          }
        }
      ]
    },
    {
      "cell_type": "code",
      "metadata": {
        "id": "KnTZy0Zoqzzp",
        "colab": {
          "base_uri": "https://localhost:8080/",
          "height": 465
        },
        "outputId": "c76ba0d1-20fb-431b-98fc-f91c63911b7c"
      },
      "source": [
        "fig = plt.figure()\n",
        "\n",
        "df_states_current = df_states_current.sort_values('confirmed_per_100k_inhabitants',ascending = False)\n",
        "df_states_current['confirmed_per_100k_inhabitants'].plot(kind='bar',figsize=(12,7)).yaxis.set_major_formatter(ticker.StrMethodFormatter('{x:,}'))\n",
        "\n",
        "plt.title('Confirmados (COVID-19) por 100k habit por UF')\n",
        "display()"
      ],
      "execution_count": null,
      "outputs": [
        {
          "output_type": "display_data",
          "data": {
            "image/png": "[encoded data removed]",
            "text/plain": [
              "<Figure size 864x504 with 1 Axes>"
            ]
          },
          "metadata": {
            "tags": [],
            "needs_background": "light"
          }
        }
      ]
    },
    {
      "cell_type": "code",
      "metadata": {
        "id": "XR-tjK6Tq1QY",
        "colab": {
          "base_uri": "https://localhost:8080/",
          "height": 465
        },
        "outputId": "b80bf0d6-bb0d-44e0-b2e4-212292868462"
      },
      "source": [
        "fig = plt.figure()\n",
        "\n",
        "df_states_current = df_states_current.sort_values('death_rate_per_100k_inhabitants',ascending = False)\n",
        "df_states_current['death_rate_per_100k_inhabitants'].plot(kind='bar',figsize=(12,7)).yaxis.set_major_formatter(ticker.StrMethodFormatter('{x:,}'))\n",
        "\n",
        "plt.title('Mortalidade (COVID-19) por 100k habit por UF')\n",
        "display()"
      ],
      "execution_count": null,
      "outputs": [
        {
          "output_type": "display_data",
          "data": {
            "image/png": "[encoded data removed]",
            "text/plain": [
              "<Figure size 864x504 with 1 Axes>"
            ]
          },
          "metadata": {
            "tags": [],
            "needs_background": "light"
          }
        }
      ]
    },
    {
      "cell_type": "markdown",
      "metadata": {
        "id": "CPqXN1ASw79V"
      },
      "source": [
        "## Por Cidade de SP"
      ]
    },
    {
      "cell_type": "markdown",
      "metadata": {
        "id": "0iuJ4rLPBbzS"
      },
      "source": [
        "  Analisando as cidades do Estado de São Paulo, temos a cidade de São Paulo com os maiores valores de Confirmados e Mortes, como esperado, porém vemos que na métrica de Confirmados por 100k hab, a cidade mesmo continuando em 1º, está parelha de São José do Rio Preto, e se considerarmos a Mortalidade por 100k hab, a cidade de SP está em 12ª posição.\n",
        "\n",
        "  Logo, a mortalidade por 100k hab vistos anteriormente do Estado de São Paulo são puxados principalmente por outras cidades. São Paulo ter um número elevado de confirmados por 100k hab, mas um índice mais baixo de mortalidade por 100k hab da índicios que a qualidade do atendimento é melhor nos casos de COVID-19. \n",
        "\n",
        "  Outro fator que pode ser relevante é o da exposição das pessoas ao vírus, pois se for um contagio decorrente de baixa exposição, a carga viral tende a ser menor no organismo, o que tende a levar a sintomas menos severos, aumentando a chance de recuperação.\n",
        "\n",
        "  Fatores como políticas públicas e distanciamento social podem ajudar neste índice de mortalidade por 100k hab."
      ]
    },
    {
      "cell_type": "code",
      "metadata": {
        "colab": {
          "base_uri": "https://localhost:8080/",
          "height": 235
        },
        "id": "M_qxXF8Nw-cl",
        "outputId": "674631bd-168c-455e-b9b7-6a65a38def45"
      },
      "source": [
        "df_cities_current_sp = df_cities_current.copy()\n",
        "df_cities_current_sp = df_cities_current_sp[df_cities_current_sp['state']=='SP']\n",
        "df_cities_current_sp = df_cities_current_sp.sort_values('confirmed',ascending = False)\n",
        "\n",
        "df_cities_current_sp = df_cities_current_sp[(df_cities_current_sp['estimated_population']>250000.0)]\n",
        "df_cities_current_sp = df_cities_current_sp.drop_duplicates(keep='first')\n",
        "df_cities_current_sp.head()"
      ],
      "execution_count": null,
      "outputs": [
        {
          "output_type": "execute_result",
          "data": {
            "text/html": [
              "<div>\n",
              "<style scoped>\n",
              "    .dataframe tbody tr th:only-of-type {\n",
              "        vertical-align: middle;\n",
              "    }\n",
              "\n",
              "    .dataframe tbody tr th {\n",
              "        vertical-align: top;\n",
              "    }\n",
              "\n",
              "    .dataframe thead th {\n",
              "        text-align: right;\n",
              "    }\n",
              "</style>\n",
              "<table border=\"1\" class=\"dataframe\">\n",
              "  <thead>\n",
              "    <tr style=\"text-align: right;\">\n",
              "      <th></th>\n",
              "      <th>date</th>\n",
              "      <th>state</th>\n",
              "      <th>city_col</th>\n",
              "      <th>place_type</th>\n",
              "      <th>confirmed</th>\n",
              "      <th>deaths</th>\n",
              "      <th>order_for_place</th>\n",
              "      <th>is_last</th>\n",
              "      <th>estimated_population_2019</th>\n",
              "      <th>estimated_population</th>\n",
              "      <th>city_ibge_code</th>\n",
              "      <th>confirmed_per_100k_inhabitants</th>\n",
              "      <th>death_rate</th>\n",
              "      <th>week_number</th>\n",
              "      <th>deaths_per_100k_inhabitants</th>\n",
              "      <th>death_rate_per_100k_inhabitants</th>\n",
              "      <th>region</th>\n",
              "    </tr>\n",
              "    <tr>\n",
              "      <th>city</th>\n",
              "      <th></th>\n",
              "      <th></th>\n",
              "      <th></th>\n",
              "      <th></th>\n",
              "      <th></th>\n",
              "      <th></th>\n",
              "      <th></th>\n",
              "      <th></th>\n",
              "      <th></th>\n",
              "      <th></th>\n",
              "      <th></th>\n",
              "      <th></th>\n",
              "      <th></th>\n",
              "      <th></th>\n",
              "      <th></th>\n",
              "      <th></th>\n",
              "      <th></th>\n",
              "    </tr>\n",
              "  </thead>\n",
              "  <tbody>\n",
              "    <tr>\n",
              "      <th>São Paulo</th>\n",
              "      <td>2020-11-05</td>\n",
              "      <td>SP</td>\n",
              "      <td>São Paulo</td>\n",
              "      <td>city</td>\n",
              "      <td>319156</td>\n",
              "      <td>13715</td>\n",
              "      <td>237</td>\n",
              "      <td>True</td>\n",
              "      <td>12252023.0</td>\n",
              "      <td>12325232.0</td>\n",
              "      <td>3550308.0</td>\n",
              "      <td>2589.45227</td>\n",
              "      <td>0.0430</td>\n",
              "      <td>45</td>\n",
              "      <td>111.275796</td>\n",
              "      <td>0.042973</td>\n",
              "      <td>SE</td>\n",
              "    </tr>\n",
              "    <tr>\n",
              "      <th>Campinas</th>\n",
              "      <td>2020-11-05</td>\n",
              "      <td>SP</td>\n",
              "      <td>Campinas</td>\n",
              "      <td>city</td>\n",
              "      <td>34173</td>\n",
              "      <td>1333</td>\n",
              "      <td>218</td>\n",
              "      <td>True</td>\n",
              "      <td>1204073.0</td>\n",
              "      <td>1213792.0</td>\n",
              "      <td>3509502.0</td>\n",
              "      <td>2815.39176</td>\n",
              "      <td>0.0390</td>\n",
              "      <td>45</td>\n",
              "      <td>109.821123</td>\n",
              "      <td>0.039007</td>\n",
              "      <td>SE</td>\n",
              "    </tr>\n",
              "    <tr>\n",
              "      <th>São Bernardo do Campo</th>\n",
              "      <td>2020-11-05</td>\n",
              "      <td>SP</td>\n",
              "      <td>São Bernardo do Campo</td>\n",
              "      <td>city</td>\n",
              "      <td>27005</td>\n",
              "      <td>991</td>\n",
              "      <td>220</td>\n",
              "      <td>True</td>\n",
              "      <td>838936.0</td>\n",
              "      <td>844483.0</td>\n",
              "      <td>3548708.0</td>\n",
              "      <td>3197.81452</td>\n",
              "      <td>0.0367</td>\n",
              "      <td>45</td>\n",
              "      <td>117.349905</td>\n",
              "      <td>0.036697</td>\n",
              "      <td>SE</td>\n",
              "    </tr>\n",
              "    <tr>\n",
              "      <th>São José do Rio Preto</th>\n",
              "      <td>2020-11-05</td>\n",
              "      <td>SP</td>\n",
              "      <td>São José do Rio Preto</td>\n",
              "      <td>city</td>\n",
              "      <td>26265</td>\n",
              "      <td>725</td>\n",
              "      <td>218</td>\n",
              "      <td>True</td>\n",
              "      <td>460671.0</td>\n",
              "      <td>464983.0</td>\n",
              "      <td>3549805.0</td>\n",
              "      <td>5648.59360</td>\n",
              "      <td>0.0276</td>\n",
              "      <td>45</td>\n",
              "      <td>155.919679</td>\n",
              "      <td>0.027603</td>\n",
              "      <td>SE</td>\n",
              "    </tr>\n",
              "    <tr>\n",
              "      <th>Ribeirão Preto</th>\n",
              "      <td>2020-11-05</td>\n",
              "      <td>SP</td>\n",
              "      <td>Ribeirão Preto</td>\n",
              "      <td>city</td>\n",
              "      <td>25235</td>\n",
              "      <td>863</td>\n",
              "      <td>214</td>\n",
              "      <td>True</td>\n",
              "      <td>703293.0</td>\n",
              "      <td>711825.0</td>\n",
              "      <td>3543402.0</td>\n",
              "      <td>3545.11291</td>\n",
              "      <td>0.0342</td>\n",
              "      <td>45</td>\n",
              "      <td>121.237664</td>\n",
              "      <td>0.034199</td>\n",
              "      <td>SE</td>\n",
              "    </tr>\n",
              "  </tbody>\n",
              "</table>\n",
              "</div>"
            ],
            "text/plain": [
              "                            date state  ... death_rate_per_100k_inhabitants region\n",
              "city                                    ...                                       \n",
              "São Paulo             2020-11-05    SP  ...                        0.042973     SE\n",
              "Campinas              2020-11-05    SP  ...                        0.039007     SE\n",
              "São Bernardo do Campo 2020-11-05    SP  ...                        0.036697     SE\n",
              "São José do Rio Preto 2020-11-05    SP  ...                        0.027603     SE\n",
              "Ribeirão Preto        2020-11-05    SP  ...                        0.034199     SE\n",
              "\n",
              "[5 rows x 17 columns]"
            ]
          },
          "metadata": {
            "tags": []
          },
          "execution_count": 41
        }
      ]
    },
    {
      "cell_type": "code",
      "metadata": {
        "colab": {
          "base_uri": "https://localhost:8080/",
          "height": 569
        },
        "id": "gK19aM1SxEF1",
        "outputId": "38fae4d5-d326-4d1f-cd75-b95cbb3cbbf8"
      },
      "source": [
        "fig = plt.figure()\n",
        "\n",
        "ax = df_cities_current_sp['confirmed'].plot(kind='bar',figsize=(12,7)).yaxis.set_major_formatter(ticker.StrMethodFormatter('{x:,}'))\n",
        "\n",
        "plt.title('Casos confirmados de COVID-19 por Cidade')\n",
        "plt.show()"
      ],
      "execution_count": null,
      "outputs": [
        {
          "output_type": "display_data",
          "data": {
            "image/png": "[encoded data removed]",
            "text/plain": [
              "<Figure size 864x504 with 1 Axes>"
            ]
          },
          "metadata": {
            "tags": [],
            "needs_background": "light"
          }
        }
      ]
    },
    {
      "cell_type": "code",
      "metadata": {
        "colab": {
          "base_uri": "https://localhost:8080/",
          "height": 235
        },
        "id": "PqII_aK8xFZ1",
        "outputId": "eb215731-a398-4bab-f85d-9da48fa41a19"
      },
      "source": [
        "df_cities_current_sp = df_cities_current.copy()\n",
        "df_cities_current_sp = df_cities_current_sp[df_cities_current_sp['state']=='SP']\n",
        "df_cities_current_sp = df_cities_current_sp.sort_values('deaths',ascending = False)\n",
        "\n",
        "df_cities_current_sp = df_cities_current_sp[(df_cities_current_sp['estimated_population']>250000.0)]\n",
        "df_cities_current_sp = df_cities_current_sp.drop_duplicates(keep='first')\n",
        "df_cities_current_sp.head()"
      ],
      "execution_count": null,
      "outputs": [
        {
          "output_type": "execute_result",
          "data": {
            "text/html": [
              "<div>\n",
              "<style scoped>\n",
              "    .dataframe tbody tr th:only-of-type {\n",
              "        vertical-align: middle;\n",
              "    }\n",
              "\n",
              "    .dataframe tbody tr th {\n",
              "        vertical-align: top;\n",
              "    }\n",
              "\n",
              "    .dataframe thead th {\n",
              "        text-align: right;\n",
              "    }\n",
              "</style>\n",
              "<table border=\"1\" class=\"dataframe\">\n",
              "  <thead>\n",
              "    <tr style=\"text-align: right;\">\n",
              "      <th></th>\n",
              "      <th>date</th>\n",
              "      <th>state</th>\n",
              "      <th>city_col</th>\n",
              "      <th>place_type</th>\n",
              "      <th>confirmed</th>\n",
              "      <th>deaths</th>\n",
              "      <th>order_for_place</th>\n",
              "      <th>is_last</th>\n",
              "      <th>estimated_population_2019</th>\n",
              "      <th>estimated_population</th>\n",
              "      <th>city_ibge_code</th>\n",
              "      <th>confirmed_per_100k_inhabitants</th>\n",
              "      <th>death_rate</th>\n",
              "      <th>week_number</th>\n",
              "      <th>deaths_per_100k_inhabitants</th>\n",
              "      <th>death_rate_per_100k_inhabitants</th>\n",
              "      <th>region</th>\n",
              "    </tr>\n",
              "    <tr>\n",
              "      <th>city</th>\n",
              "      <th></th>\n",
              "      <th></th>\n",
              "      <th></th>\n",
              "      <th></th>\n",
              "      <th></th>\n",
              "      <th></th>\n",
              "      <th></th>\n",
              "      <th></th>\n",
              "      <th></th>\n",
              "      <th></th>\n",
              "      <th></th>\n",
              "      <th></th>\n",
              "      <th></th>\n",
              "      <th></th>\n",
              "      <th></th>\n",
              "      <th></th>\n",
              "      <th></th>\n",
              "    </tr>\n",
              "  </thead>\n",
              "  <tbody>\n",
              "    <tr>\n",
              "      <th>São Paulo</th>\n",
              "      <td>2020-11-05</td>\n",
              "      <td>SP</td>\n",
              "      <td>São Paulo</td>\n",
              "      <td>city</td>\n",
              "      <td>319156</td>\n",
              "      <td>13715</td>\n",
              "      <td>237</td>\n",
              "      <td>True</td>\n",
              "      <td>12252023.0</td>\n",
              "      <td>12325232.0</td>\n",
              "      <td>3550308.0</td>\n",
              "      <td>2589.45227</td>\n",
              "      <td>0.0430</td>\n",
              "      <td>45</td>\n",
              "      <td>111.275796</td>\n",
              "      <td>0.042973</td>\n",
              "      <td>SE</td>\n",
              "    </tr>\n",
              "    <tr>\n",
              "      <th>Guarulhos</th>\n",
              "      <td>2020-11-05</td>\n",
              "      <td>SP</td>\n",
              "      <td>Guarulhos</td>\n",
              "      <td>city</td>\n",
              "      <td>22848</td>\n",
              "      <td>1546</td>\n",
              "      <td>219</td>\n",
              "      <td>True</td>\n",
              "      <td>1379182.0</td>\n",
              "      <td>1392121.0</td>\n",
              "      <td>3518800.0</td>\n",
              "      <td>1641.23665</td>\n",
              "      <td>0.0677</td>\n",
              "      <td>45</td>\n",
              "      <td>111.053565</td>\n",
              "      <td>0.067665</td>\n",
              "      <td>SE</td>\n",
              "    </tr>\n",
              "    <tr>\n",
              "      <th>Campinas</th>\n",
              "      <td>2020-11-05</td>\n",
              "      <td>SP</td>\n",
              "      <td>Campinas</td>\n",
              "      <td>city</td>\n",
              "      <td>34173</td>\n",
              "      <td>1333</td>\n",
              "      <td>218</td>\n",
              "      <td>True</td>\n",
              "      <td>1204073.0</td>\n",
              "      <td>1213792.0</td>\n",
              "      <td>3509502.0</td>\n",
              "      <td>2815.39176</td>\n",
              "      <td>0.0390</td>\n",
              "      <td>45</td>\n",
              "      <td>109.821123</td>\n",
              "      <td>0.039007</td>\n",
              "      <td>SE</td>\n",
              "    </tr>\n",
              "    <tr>\n",
              "      <th>São Bernardo do Campo</th>\n",
              "      <td>2020-11-05</td>\n",
              "      <td>SP</td>\n",
              "      <td>São Bernardo do Campo</td>\n",
              "      <td>city</td>\n",
              "      <td>27005</td>\n",
              "      <td>991</td>\n",
              "      <td>220</td>\n",
              "      <td>True</td>\n",
              "      <td>838936.0</td>\n",
              "      <td>844483.0</td>\n",
              "      <td>3548708.0</td>\n",
              "      <td>3197.81452</td>\n",
              "      <td>0.0367</td>\n",
              "      <td>45</td>\n",
              "      <td>117.349905</td>\n",
              "      <td>0.036697</td>\n",
              "      <td>SE</td>\n",
              "    </tr>\n",
              "    <tr>\n",
              "      <th>Ribeirão Preto</th>\n",
              "      <td>2020-11-05</td>\n",
              "      <td>SP</td>\n",
              "      <td>Ribeirão Preto</td>\n",
              "      <td>city</td>\n",
              "      <td>25235</td>\n",
              "      <td>863</td>\n",
              "      <td>214</td>\n",
              "      <td>True</td>\n",
              "      <td>703293.0</td>\n",
              "      <td>711825.0</td>\n",
              "      <td>3543402.0</td>\n",
              "      <td>3545.11291</td>\n",
              "      <td>0.0342</td>\n",
              "      <td>45</td>\n",
              "      <td>121.237664</td>\n",
              "      <td>0.034199</td>\n",
              "      <td>SE</td>\n",
              "    </tr>\n",
              "  </tbody>\n",
              "</table>\n",
              "</div>"
            ],
            "text/plain": [
              "                            date state  ... death_rate_per_100k_inhabitants region\n",
              "city                                    ...                                       \n",
              "São Paulo             2020-11-05    SP  ...                        0.042973     SE\n",
              "Guarulhos             2020-11-05    SP  ...                        0.067665     SE\n",
              "Campinas              2020-11-05    SP  ...                        0.039007     SE\n",
              "São Bernardo do Campo 2020-11-05    SP  ...                        0.036697     SE\n",
              "Ribeirão Preto        2020-11-05    SP  ...                        0.034199     SE\n",
              "\n",
              "[5 rows x 17 columns]"
            ]
          },
          "metadata": {
            "tags": []
          },
          "execution_count": 43
        }
      ]
    },
    {
      "cell_type": "code",
      "metadata": {
        "colab": {
          "base_uri": "https://localhost:8080/",
          "height": 569
        },
        "id": "R0cE6yMhxGlE",
        "outputId": "5786c6eb-a303-4aa6-a754-120770ee8232"
      },
      "source": [
        "fig = plt.figure()\n",
        "\n",
        "df_cities_current_sp = df_cities_current_sp.sort_values('deaths',ascending = False)\n",
        "df_cities_current_sp['deaths'].plot(kind='bar',figsize=(12,7)).yaxis.set_major_formatter(ticker.StrMethodFormatter('{x:,}'))\n",
        "\n",
        "plt.title('Mortes por COVID-19 por Cidade')\n",
        "display()"
      ],
      "execution_count": null,
      "outputs": [
        {
          "output_type": "display_data",
          "data": {
            "image/png": "[encoded data removed]",
            "text/plain": [
              "<Figure size 864x504 with 1 Axes>"
            ]
          },
          "metadata": {
            "tags": [],
            "needs_background": "light"
          }
        }
      ]
    },
    {
      "cell_type": "code",
      "metadata": {
        "colab": {
          "base_uri": "https://localhost:8080/",
          "height": 235
        },
        "id": "YtRt3WA4xIE9",
        "outputId": "91c24942-6b06-47d0-c2c3-e2b3416ed20d"
      },
      "source": [
        "df_cities_current_sp = df_cities_current.copy()\n",
        "df_cities_current_sp = df_cities_current_sp[df_cities_current_sp['state']=='SP']\n",
        "df_cities_current_sp = df_cities_current_sp.sort_values('confirmed_per_100k_inhabitants',ascending = False)\n",
        "\n",
        "df_cities_current_sp = df_cities_current_sp[(df_cities_current_sp['estimated_population']>250000.0)]\n",
        "df_cities_current_sp = df_cities_current_sp.drop_duplicates(keep='first')\n",
        "df_cities_current_sp.head()"
      ],
      "execution_count": null,
      "outputs": [
        {
          "output_type": "execute_result",
          "data": {
            "text/html": [
              "<div>\n",
              "<style scoped>\n",
              "    .dataframe tbody tr th:only-of-type {\n",
              "        vertical-align: middle;\n",
              "    }\n",
              "\n",
              "    .dataframe tbody tr th {\n",
              "        vertical-align: top;\n",
              "    }\n",
              "\n",
              "    .dataframe thead th {\n",
              "        text-align: right;\n",
              "    }\n",
              "</style>\n",
              "<table border=\"1\" class=\"dataframe\">\n",
              "  <thead>\n",
              "    <tr style=\"text-align: right;\">\n",
              "      <th></th>\n",
              "      <th>date</th>\n",
              "      <th>state</th>\n",
              "      <th>city_col</th>\n",
              "      <th>place_type</th>\n",
              "      <th>confirmed</th>\n",
              "      <th>deaths</th>\n",
              "      <th>order_for_place</th>\n",
              "      <th>is_last</th>\n",
              "      <th>estimated_population_2019</th>\n",
              "      <th>estimated_population</th>\n",
              "      <th>city_ibge_code</th>\n",
              "      <th>confirmed_per_100k_inhabitants</th>\n",
              "      <th>death_rate</th>\n",
              "      <th>week_number</th>\n",
              "      <th>deaths_per_100k_inhabitants</th>\n",
              "      <th>death_rate_per_100k_inhabitants</th>\n",
              "      <th>region</th>\n",
              "    </tr>\n",
              "    <tr>\n",
              "      <th>city</th>\n",
              "      <th></th>\n",
              "      <th></th>\n",
              "      <th></th>\n",
              "      <th></th>\n",
              "      <th></th>\n",
              "      <th></th>\n",
              "      <th></th>\n",
              "      <th></th>\n",
              "      <th></th>\n",
              "      <th></th>\n",
              "      <th></th>\n",
              "      <th></th>\n",
              "      <th></th>\n",
              "      <th></th>\n",
              "      <th></th>\n",
              "      <th></th>\n",
              "      <th></th>\n",
              "    </tr>\n",
              "  </thead>\n",
              "  <tbody>\n",
              "    <tr>\n",
              "      <th>Santos</th>\n",
              "      <td>2020-11-05</td>\n",
              "      <td>SP</td>\n",
              "      <td>Santos</td>\n",
              "      <td>city</td>\n",
              "      <td>24727</td>\n",
              "      <td>695</td>\n",
              "      <td>212</td>\n",
              "      <td>True</td>\n",
              "      <td>433311.0</td>\n",
              "      <td>433656.0</td>\n",
              "      <td>3548500.0</td>\n",
              "      <td>5701.98498</td>\n",
              "      <td>0.0281</td>\n",
              "      <td>45</td>\n",
              "      <td>160.265279</td>\n",
              "      <td>0.028107</td>\n",
              "      <td>SE</td>\n",
              "    </tr>\n",
              "    <tr>\n",
              "      <th>São José do Rio Preto</th>\n",
              "      <td>2020-11-05</td>\n",
              "      <td>SP</td>\n",
              "      <td>São José do Rio Preto</td>\n",
              "      <td>city</td>\n",
              "      <td>26265</td>\n",
              "      <td>725</td>\n",
              "      <td>218</td>\n",
              "      <td>True</td>\n",
              "      <td>460671.0</td>\n",
              "      <td>464983.0</td>\n",
              "      <td>3549805.0</td>\n",
              "      <td>5648.59360</td>\n",
              "      <td>0.0276</td>\n",
              "      <td>45</td>\n",
              "      <td>155.919679</td>\n",
              "      <td>0.027603</td>\n",
              "      <td>SE</td>\n",
              "    </tr>\n",
              "    <tr>\n",
              "      <th>Bauru</th>\n",
              "      <td>2020-11-05</td>\n",
              "      <td>SP</td>\n",
              "      <td>Bauru</td>\n",
              "      <td>city</td>\n",
              "      <td>14063</td>\n",
              "      <td>250</td>\n",
              "      <td>211</td>\n",
              "      <td>True</td>\n",
              "      <td>376818.0</td>\n",
              "      <td>379297.0</td>\n",
              "      <td>3506003.0</td>\n",
              "      <td>3707.64862</td>\n",
              "      <td>0.0178</td>\n",
              "      <td>45</td>\n",
              "      <td>65.911410</td>\n",
              "      <td>0.017777</td>\n",
              "      <td>SE</td>\n",
              "    </tr>\n",
              "    <tr>\n",
              "      <th>Piracicaba</th>\n",
              "      <td>2020-11-05</td>\n",
              "      <td>SP</td>\n",
              "      <td>Piracicaba</td>\n",
              "      <td>city</td>\n",
              "      <td>14868</td>\n",
              "      <td>368</td>\n",
              "      <td>212</td>\n",
              "      <td>True</td>\n",
              "      <td>404142.0</td>\n",
              "      <td>407252.0</td>\n",
              "      <td>3538709.0</td>\n",
              "      <td>3650.81080</td>\n",
              "      <td>0.0248</td>\n",
              "      <td>45</td>\n",
              "      <td>90.361742</td>\n",
              "      <td>0.024751</td>\n",
              "      <td>SE</td>\n",
              "    </tr>\n",
              "    <tr>\n",
              "      <th>Ribeirão Preto</th>\n",
              "      <td>2020-11-05</td>\n",
              "      <td>SP</td>\n",
              "      <td>Ribeirão Preto</td>\n",
              "      <td>city</td>\n",
              "      <td>25235</td>\n",
              "      <td>863</td>\n",
              "      <td>214</td>\n",
              "      <td>True</td>\n",
              "      <td>703293.0</td>\n",
              "      <td>711825.0</td>\n",
              "      <td>3543402.0</td>\n",
              "      <td>3545.11291</td>\n",
              "      <td>0.0342</td>\n",
              "      <td>45</td>\n",
              "      <td>121.237664</td>\n",
              "      <td>0.034199</td>\n",
              "      <td>SE</td>\n",
              "    </tr>\n",
              "  </tbody>\n",
              "</table>\n",
              "</div>"
            ],
            "text/plain": [
              "                            date state  ... death_rate_per_100k_inhabitants region\n",
              "city                                    ...                                       \n",
              "Santos                2020-11-05    SP  ...                        0.028107     SE\n",
              "São José do Rio Preto 2020-11-05    SP  ...                        0.027603     SE\n",
              "Bauru                 2020-11-05    SP  ...                        0.017777     SE\n",
              "Piracicaba            2020-11-05    SP  ...                        0.024751     SE\n",
              "Ribeirão Preto        2020-11-05    SP  ...                        0.034199     SE\n",
              "\n",
              "[5 rows x 17 columns]"
            ]
          },
          "metadata": {
            "tags": []
          },
          "execution_count": 45
        }
      ]
    },
    {
      "cell_type": "code",
      "metadata": {
        "colab": {
          "base_uri": "https://localhost:8080/",
          "height": 569
        },
        "id": "bc3IeIDZxJpU",
        "outputId": "ec13b2fe-5ede-479d-e43e-7baeae5a2b3a"
      },
      "source": [
        "fig = plt.figure()\n",
        "\n",
        "df_cities_current_sp = df_cities_current_sp.sort_values('confirmed_per_100k_inhabitants',ascending = False)\n",
        "df_cities_current_sp['confirmed_per_100k_inhabitants'].plot(kind='bar',figsize=(12,7)).yaxis.set_major_formatter(ticker.StrMethodFormatter('{x:,}'))\n",
        "\n",
        "plt.title('Confirmados (COVID-19) por 100k habit por Cidade')\n",
        "display()"
      ],
      "execution_count": null,
      "outputs": [
        {
          "output_type": "display_data",
          "data": {
            "image/png": "[encoded data removed]",
            "text/plain": [
              "<Figure size 864x504 with 1 Axes>"
            ]
          },
          "metadata": {
            "tags": [],
            "needs_background": "light"
          }
        }
      ]
    },
    {
      "cell_type": "code",
      "metadata": {
        "colab": {
          "base_uri": "https://localhost:8080/",
          "height": 545
        },
        "id": "BWDqYJkMxLk1",
        "outputId": "78acc72e-ab00-4da3-ef28-dda0bcaf3a20"
      },
      "source": [
        "df_cities_current_sp = df_cities_current.copy()\n",
        "df_cities_current_sp = df_cities_current_sp[df_cities_current_sp['state']=='SP']\n",
        "df_cities_current_sp = df_cities_current_sp.sort_values('death_rate_per_100k_inhabitants',ascending = False)\n",
        "\n",
        "df_cities_current_sp = df_cities_current_sp[(df_cities_current_sp['estimated_population']>250000.0)]\n",
        "df_cities_current_sp = df_cities_current_sp.drop_duplicates(keep='first')\n",
        "df_cities_current_sp.head(15)"
      ],
      "execution_count": null,
      "outputs": [
        {
          "output_type": "execute_result",
          "data": {
            "text/html": [
              "<div>\n",
              "<style scoped>\n",
              "    .dataframe tbody tr th:only-of-type {\n",
              "        vertical-align: middle;\n",
              "    }\n",
              "\n",
              "    .dataframe tbody tr th {\n",
              "        vertical-align: top;\n",
              "    }\n",
              "\n",
              "    .dataframe thead th {\n",
              "        text-align: right;\n",
              "    }\n",
              "</style>\n",
              "<table border=\"1\" class=\"dataframe\">\n",
              "  <thead>\n",
              "    <tr style=\"text-align: right;\">\n",
              "      <th></th>\n",
              "      <th>date</th>\n",
              "      <th>state</th>\n",
              "      <th>city_col</th>\n",
              "      <th>place_type</th>\n",
              "      <th>confirmed</th>\n",
              "      <th>deaths</th>\n",
              "      <th>order_for_place</th>\n",
              "      <th>is_last</th>\n",
              "      <th>estimated_population_2019</th>\n",
              "      <th>estimated_population</th>\n",
              "      <th>city_ibge_code</th>\n",
              "      <th>confirmed_per_100k_inhabitants</th>\n",
              "      <th>death_rate</th>\n",
              "      <th>week_number</th>\n",
              "      <th>deaths_per_100k_inhabitants</th>\n",
              "      <th>death_rate_per_100k_inhabitants</th>\n",
              "      <th>region</th>\n",
              "    </tr>\n",
              "    <tr>\n",
              "      <th>city</th>\n",
              "      <th></th>\n",
              "      <th></th>\n",
              "      <th></th>\n",
              "      <th></th>\n",
              "      <th></th>\n",
              "      <th></th>\n",
              "      <th></th>\n",
              "      <th></th>\n",
              "      <th></th>\n",
              "      <th></th>\n",
              "      <th></th>\n",
              "      <th></th>\n",
              "      <th></th>\n",
              "      <th></th>\n",
              "      <th></th>\n",
              "      <th></th>\n",
              "      <th></th>\n",
              "    </tr>\n",
              "  </thead>\n",
              "  <tbody>\n",
              "    <tr>\n",
              "      <th>Guarulhos</th>\n",
              "      <td>2020-11-05</td>\n",
              "      <td>SP</td>\n",
              "      <td>Guarulhos</td>\n",
              "      <td>city</td>\n",
              "      <td>22848</td>\n",
              "      <td>1546</td>\n",
              "      <td>219</td>\n",
              "      <td>True</td>\n",
              "      <td>1379182.0</td>\n",
              "      <td>1392121.0</td>\n",
              "      <td>3518800.0</td>\n",
              "      <td>1641.23665</td>\n",
              "      <td>0.0677</td>\n",
              "      <td>45</td>\n",
              "      <td>111.053565</td>\n",
              "      <td>0.067665</td>\n",
              "      <td>SE</td>\n",
              "    </tr>\n",
              "    <tr>\n",
              "      <th>Itaquaquecetuba</th>\n",
              "      <td>2020-11-05</td>\n",
              "      <td>SP</td>\n",
              "      <td>Itaquaquecetuba</td>\n",
              "      <td>city</td>\n",
              "      <td>4532</td>\n",
              "      <td>301</td>\n",
              "      <td>211</td>\n",
              "      <td>True</td>\n",
              "      <td>370821.0</td>\n",
              "      <td>375011.0</td>\n",
              "      <td>3523107.0</td>\n",
              "      <td>1208.49788</td>\n",
              "      <td>0.0664</td>\n",
              "      <td>45</td>\n",
              "      <td>80.264312</td>\n",
              "      <td>0.066417</td>\n",
              "      <td>SE</td>\n",
              "    </tr>\n",
              "    <tr>\n",
              "      <th>São Vicente</th>\n",
              "      <td>2020-11-05</td>\n",
              "      <td>SP</td>\n",
              "      <td>São Vicente</td>\n",
              "      <td>city</td>\n",
              "      <td>7445</td>\n",
              "      <td>452</td>\n",
              "      <td>211</td>\n",
              "      <td>True</td>\n",
              "      <td>365798.0</td>\n",
              "      <td>368355.0</td>\n",
              "      <td>3551009.0</td>\n",
              "      <td>2021.14808</td>\n",
              "      <td>0.0607</td>\n",
              "      <td>45</td>\n",
              "      <td>122.707714</td>\n",
              "      <td>0.060712</td>\n",
              "      <td>SE</td>\n",
              "    </tr>\n",
              "    <tr>\n",
              "      <th>Osasco</th>\n",
              "      <td>2020-11-05</td>\n",
              "      <td>SP</td>\n",
              "      <td>Osasco</td>\n",
              "      <td>city</td>\n",
              "      <td>14567</td>\n",
              "      <td>840</td>\n",
              "      <td>217</td>\n",
              "      <td>True</td>\n",
              "      <td>698418.0</td>\n",
              "      <td>699944.0</td>\n",
              "      <td>3534401.0</td>\n",
              "      <td>2081.16649</td>\n",
              "      <td>0.0577</td>\n",
              "      <td>45</td>\n",
              "      <td>120.009601</td>\n",
              "      <td>0.057665</td>\n",
              "      <td>SE</td>\n",
              "    </tr>\n",
              "    <tr>\n",
              "      <th>Barueri</th>\n",
              "      <td>2020-11-05</td>\n",
              "      <td>SP</td>\n",
              "      <td>Barueri</td>\n",
              "      <td>city</td>\n",
              "      <td>7827</td>\n",
              "      <td>386</td>\n",
              "      <td>218</td>\n",
              "      <td>True</td>\n",
              "      <td>274182.0</td>\n",
              "      <td>276982.0</td>\n",
              "      <td>3505708.0</td>\n",
              "      <td>2825.81540</td>\n",
              "      <td>0.0493</td>\n",
              "      <td>45</td>\n",
              "      <td>139.359236</td>\n",
              "      <td>0.049316</td>\n",
              "      <td>SE</td>\n",
              "    </tr>\n",
              "    <tr>\n",
              "      <th>Embu das Artes</th>\n",
              "      <td>2020-11-05</td>\n",
              "      <td>SP</td>\n",
              "      <td>Embu das Artes</td>\n",
              "      <td>city</td>\n",
              "      <td>3805</td>\n",
              "      <td>186</td>\n",
              "      <td>215</td>\n",
              "      <td>True</td>\n",
              "      <td>273726.0</td>\n",
              "      <td>276535.0</td>\n",
              "      <td>3515004.0</td>\n",
              "      <td>1375.95603</td>\n",
              "      <td>0.0489</td>\n",
              "      <td>45</td>\n",
              "      <td>67.260925</td>\n",
              "      <td>0.048883</td>\n",
              "      <td>SE</td>\n",
              "    </tr>\n",
              "    <tr>\n",
              "      <th>Mogi das Cruzes</th>\n",
              "      <td>2020-11-05</td>\n",
              "      <td>SP</td>\n",
              "      <td>Mogi das Cruzes</td>\n",
              "      <td>city</td>\n",
              "      <td>8909</td>\n",
              "      <td>432</td>\n",
              "      <td>216</td>\n",
              "      <td>True</td>\n",
              "      <td>445842.0</td>\n",
              "      <td>450785.0</td>\n",
              "      <td>3530607.0</td>\n",
              "      <td>1976.33018</td>\n",
              "      <td>0.0485</td>\n",
              "      <td>45</td>\n",
              "      <td>95.832825</td>\n",
              "      <td>0.048490</td>\n",
              "      <td>SE</td>\n",
              "    </tr>\n",
              "    <tr>\n",
              "      <th>Indaiatuba</th>\n",
              "      <td>2020-11-05</td>\n",
              "      <td>SP</td>\n",
              "      <td>Indaiatuba</td>\n",
              "      <td>city</td>\n",
              "      <td>4777</td>\n",
              "      <td>228</td>\n",
              "      <td>210</td>\n",
              "      <td>True</td>\n",
              "      <td>251627.0</td>\n",
              "      <td>256223.0</td>\n",
              "      <td>3520509.0</td>\n",
              "      <td>1864.39157</td>\n",
              "      <td>0.0477</td>\n",
              "      <td>45</td>\n",
              "      <td>88.984986</td>\n",
              "      <td>0.047729</td>\n",
              "      <td>SE</td>\n",
              "    </tr>\n",
              "    <tr>\n",
              "      <th>Mauá</th>\n",
              "      <td>2020-11-05</td>\n",
              "      <td>SP</td>\n",
              "      <td>Mauá</td>\n",
              "      <td>city</td>\n",
              "      <td>8127</td>\n",
              "      <td>384</td>\n",
              "      <td>220</td>\n",
              "      <td>True</td>\n",
              "      <td>472912.0</td>\n",
              "      <td>477552.0</td>\n",
              "      <td>3529401.0</td>\n",
              "      <td>1701.80420</td>\n",
              "      <td>0.0472</td>\n",
              "      <td>45</td>\n",
              "      <td>80.410091</td>\n",
              "      <td>0.047250</td>\n",
              "      <td>SE</td>\n",
              "    </tr>\n",
              "    <tr>\n",
              "      <th>Cotia</th>\n",
              "      <td>2020-11-05</td>\n",
              "      <td>SP</td>\n",
              "      <td>Cotia</td>\n",
              "      <td>city</td>\n",
              "      <td>4555</td>\n",
              "      <td>209</td>\n",
              "      <td>218</td>\n",
              "      <td>True</td>\n",
              "      <td>249210.0</td>\n",
              "      <td>253608.0</td>\n",
              "      <td>3513009.0</td>\n",
              "      <td>1796.07899</td>\n",
              "      <td>0.0459</td>\n",
              "      <td>45</td>\n",
              "      <td>82.410650</td>\n",
              "      <td>0.045884</td>\n",
              "      <td>SE</td>\n",
              "    </tr>\n",
              "    <tr>\n",
              "      <th>Suzano</th>\n",
              "      <td>2020-11-05</td>\n",
              "      <td>SP</td>\n",
              "      <td>Suzano</td>\n",
              "      <td>city</td>\n",
              "      <td>5586</td>\n",
              "      <td>247</td>\n",
              "      <td>217</td>\n",
              "      <td>True</td>\n",
              "      <td>297637.0</td>\n",
              "      <td>300559.0</td>\n",
              "      <td>3552502.0</td>\n",
              "      <td>1858.53693</td>\n",
              "      <td>0.0442</td>\n",
              "      <td>45</td>\n",
              "      <td>82.180204</td>\n",
              "      <td>0.044218</td>\n",
              "      <td>SE</td>\n",
              "    </tr>\n",
              "    <tr>\n",
              "      <th>São Paulo</th>\n",
              "      <td>2020-11-05</td>\n",
              "      <td>SP</td>\n",
              "      <td>São Paulo</td>\n",
              "      <td>city</td>\n",
              "      <td>319156</td>\n",
              "      <td>13715</td>\n",
              "      <td>237</td>\n",
              "      <td>True</td>\n",
              "      <td>12252023.0</td>\n",
              "      <td>12325232.0</td>\n",
              "      <td>3550308.0</td>\n",
              "      <td>2589.45227</td>\n",
              "      <td>0.0430</td>\n",
              "      <td>45</td>\n",
              "      <td>111.275796</td>\n",
              "      <td>0.042973</td>\n",
              "      <td>SE</td>\n",
              "    </tr>\n",
              "    <tr>\n",
              "      <th>Carapicuíba</th>\n",
              "      <td>2020-11-05</td>\n",
              "      <td>SP</td>\n",
              "      <td>Carapicuíba</td>\n",
              "      <td>city</td>\n",
              "      <td>8741</td>\n",
              "      <td>374</td>\n",
              "      <td>220</td>\n",
              "      <td>True</td>\n",
              "      <td>400927.0</td>\n",
              "      <td>403183.0</td>\n",
              "      <td>3510609.0</td>\n",
              "      <td>2167.99815</td>\n",
              "      <td>0.0428</td>\n",
              "      <td>45</td>\n",
              "      <td>92.761848</td>\n",
              "      <td>0.042787</td>\n",
              "      <td>SE</td>\n",
              "    </tr>\n",
              "    <tr>\n",
              "      <th>Diadema</th>\n",
              "      <td>2020-11-05</td>\n",
              "      <td>SP</td>\n",
              "      <td>Diadema</td>\n",
              "      <td>city</td>\n",
              "      <td>9200</td>\n",
              "      <td>391</td>\n",
              "      <td>213</td>\n",
              "      <td>True</td>\n",
              "      <td>423884.0</td>\n",
              "      <td>426757.0</td>\n",
              "      <td>3513801.0</td>\n",
              "      <td>2155.79358</td>\n",
              "      <td>0.0425</td>\n",
              "      <td>45</td>\n",
              "      <td>91.621227</td>\n",
              "      <td>0.042500</td>\n",
              "      <td>SE</td>\n",
              "    </tr>\n",
              "    <tr>\n",
              "      <th>Guarujá</th>\n",
              "      <td>2020-11-05</td>\n",
              "      <td>SP</td>\n",
              "      <td>Guarujá</td>\n",
              "      <td>city</td>\n",
              "      <td>9580</td>\n",
              "      <td>381</td>\n",
              "      <td>211</td>\n",
              "      <td>True</td>\n",
              "      <td>320459.0</td>\n",
              "      <td>322750.0</td>\n",
              "      <td>3518701.0</td>\n",
              "      <td>2968.24167</td>\n",
              "      <td>0.0398</td>\n",
              "      <td>45</td>\n",
              "      <td>118.048025</td>\n",
              "      <td>0.039770</td>\n",
              "      <td>SE</td>\n",
              "    </tr>\n",
              "  </tbody>\n",
              "</table>\n",
              "</div>"
            ],
            "text/plain": [
              "                      date state  ... death_rate_per_100k_inhabitants region\n",
              "city                              ...                                       \n",
              "Guarulhos       2020-11-05    SP  ...                        0.067665     SE\n",
              "Itaquaquecetuba 2020-11-05    SP  ...                        0.066417     SE\n",
              "São Vicente     2020-11-05    SP  ...                        0.060712     SE\n",
              "Osasco          2020-11-05    SP  ...                        0.057665     SE\n",
              "Barueri         2020-11-05    SP  ...                        0.049316     SE\n",
              "Embu das Artes  2020-11-05    SP  ...                        0.048883     SE\n",
              "Mogi das Cruzes 2020-11-05    SP  ...                        0.048490     SE\n",
              "Indaiatuba      2020-11-05    SP  ...                        0.047729     SE\n",
              "Mauá            2020-11-05    SP  ...                        0.047250     SE\n",
              "Cotia           2020-11-05    SP  ...                        0.045884     SE\n",
              "Suzano          2020-11-05    SP  ...                        0.044218     SE\n",
              "São Paulo       2020-11-05    SP  ...                        0.042973     SE\n",
              "Carapicuíba     2020-11-05    SP  ...                        0.042787     SE\n",
              "Diadema         2020-11-05    SP  ...                        0.042500     SE\n",
              "Guarujá         2020-11-05    SP  ...                        0.039770     SE\n",
              "\n",
              "[15 rows x 17 columns]"
            ]
          },
          "metadata": {
            "tags": []
          },
          "execution_count": 47
        }
      ]
    },
    {
      "cell_type": "code",
      "metadata": {
        "colab": {
          "base_uri": "https://localhost:8080/",
          "height": 569
        },
        "id": "EP8MX7GWxN_t",
        "outputId": "c3353e7f-e1ca-4758-80e7-1cf5324f8f33"
      },
      "source": [
        "fig = plt.figure()\n",
        "\n",
        "df_cities_current_sp = df_cities_current_sp.sort_values('death_rate_per_100k_inhabitants',ascending = False)\n",
        "df_cities_current_sp['death_rate_per_100k_inhabitants'].plot(kind='bar',figsize=(12,7)).yaxis.set_major_formatter(ticker.StrMethodFormatter('{x:,}'))\n",
        "\n",
        "plt.title('Mortalidade (COVID-19) por 100k habit por Cidade')\n",
        "display()"
      ],
      "execution_count": null,
      "outputs": [
        {
          "output_type": "display_data",
          "data": {
            "image/png": "[encoded data removed]",
            "text/plain": [
              "<Figure size 864x504 with 1 Axes>"
            ]
          },
          "metadata": {
            "tags": [],
            "needs_background": "light"
          }
        }
      ]
    },
    {
      "cell_type": "markdown",
      "metadata": {
        "id": "8gKpmQM_g8k4"
      },
      "source": [
        "## Por Cidade com mais de 1 milhão de habitantes e 10.000 casos confirmados do Brasil"
      ]
    },
    {
      "cell_type": "markdown",
      "metadata": {
        "id": "Zfp_31lkw3yI"
      },
      "source": [
        "Comparando a cidade de São Paulo com outras cidades do Brasil, que tenham mais de 1 milhão de habitantes e mais de 10 mil casos confirmados, para tentar fazer um recorte mais similar ao da cidade de São Paulo, vemos que se repete a liderança de SP em relação a números absolutos de confirmados e mortes.\n",
        "\n",
        "Porém, novamente podemos ver como a mortalidade por 100k hab é menor que as outras cidades, estando em 5º lugar. E quanto aos confirmados por 100k hab, encontra-se em 7º lugar."
      ]
    },
    {
      "cell_type": "code",
      "metadata": {
        "id": "BfAfwl6Vhr3a"
      },
      "source": [
        "df_cities_current = df_cities_current.sort_values('confirmed',ascending = False)\n",
        "top_cities = df_cities_current[(df_cities_current['estimated_population']>1000000.0) & (df_cities_current['confirmed']>10000)]['city_col'][:10]\n",
        "top_cities = top_cities.to_list()\n",
        "top_cities = top_cities + ['São Paulo']\n",
        "\n",
        "df_cities_current = df_cities_current[(df_cities_current['estimated_population']>1000000.0) & (df_cities_current['confirmed']>10000) & (df_cities_current['city_col'].isin(top_cities))]\n",
        "df_cities_current = df_cities_current.drop_duplicates(keep='first')"
      ],
      "execution_count": null,
      "outputs": []
    },
    {
      "cell_type": "code",
      "metadata": {
        "id": "mxvhn34og_Co",
        "colab": {
          "base_uri": "https://localhost:8080/",
          "height": 521
        },
        "outputId": "c6960142-112e-4e0c-f77d-70dcaa44cf59"
      },
      "source": [
        "fig = plt.figure()\n",
        "\n",
        "ax = df_cities_current['confirmed'].plot(kind='bar',figsize=(12,7)).yaxis.set_major_formatter(ticker.StrMethodFormatter('{x:,}'))\n",
        "\n",
        "plt.title('Casos confirmados de COVID-19 por Cidade')\n",
        "plt.show()"
      ],
      "execution_count": null,
      "outputs": [
        {
          "output_type": "display_data",
          "data": {
            "image/png": "[encoded data removed]",
            "text/plain": [
              "<Figure size 864x504 with 1 Axes>"
            ]
          },
          "metadata": {
            "tags": [],
            "needs_background": "light"
          }
        }
      ]
    },
    {
      "cell_type": "code",
      "metadata": {
        "id": "vd83AMJDihRh"
      },
      "source": [
        "df_cities_current = df_cities_current.sort_values('deaths',ascending = False)\n",
        "top_cities = df_cities_current[(df_cities_current['estimated_population']>1000000.0) & (df_cities_current['confirmed']>10000)]['city_col'][:10]\n",
        "top_cities = top_cities.to_list()\n",
        "top_cities = top_cities + ['São Paulo']\n",
        "\n",
        "df_cities_current = df_cities_current[(df_cities_current['estimated_population']>1000000.0) & (df_cities_current['confirmed']>10000) & (df_cities_current['city_col'].isin(top_cities))]\n",
        "df_cities_current = df_cities_current.drop_duplicates(keep='first')"
      ],
      "execution_count": null,
      "outputs": []
    },
    {
      "cell_type": "code",
      "metadata": {
        "id": "sFvIdYFKhAf_",
        "colab": {
          "base_uri": "https://localhost:8080/",
          "height": 521
        },
        "outputId": "427abfff-f3b9-4284-9aa9-ce02e12e9207"
      },
      "source": [
        "fig = plt.figure()\n",
        "\n",
        "df_cities_current = df_cities_current.sort_values('deaths',ascending = False)\n",
        "df_cities_current['deaths'].plot(kind='bar',figsize=(12,7)).yaxis.set_major_formatter(ticker.StrMethodFormatter('{x:,}'))\n",
        "\n",
        "plt.title('Mortes por COVID-19 por Cidade')\n",
        "display()"
      ],
      "execution_count": null,
      "outputs": [
        {
          "output_type": "display_data",
          "data": {
            "image/png": "[encoded data removed]",
            "text/plain": [
              "<Figure size 864x504 with 1 Axes>"
            ]
          },
          "metadata": {
            "tags": [],
            "needs_background": "light"
          }
        }
      ]
    },
    {
      "cell_type": "code",
      "metadata": {
        "id": "Cg566bBhilRz"
      },
      "source": [
        "df_cities_current = df_cities_current.sort_values('confirmed_per_100k_inhabitants',ascending = False)\n",
        "top_cities = df_cities_current[(df_cities_current['estimated_population']>1000000.0) & (df_cities_current['confirmed']>10000)]['city_col'][:10]\n",
        "top_cities = top_cities.to_list()\n",
        "top_cities = top_cities + ['São Paulo']\n",
        "\n",
        "df_cities_current = df_cities_current[(df_cities_current['estimated_population']>1000000.0) & (df_cities_current['confirmed']>10000) & (df_cities_current['city_col'].isin(top_cities))]\n",
        "df_cities_current = df_cities_current.drop_duplicates(keep='first')"
      ],
      "execution_count": null,
      "outputs": []
    },
    {
      "cell_type": "code",
      "metadata": {
        "id": "_L16sDOyhCgA",
        "colab": {
          "base_uri": "https://localhost:8080/",
          "height": 521
        },
        "outputId": "2d17db6e-be30-41f0-b9f6-080b76c32ae5"
      },
      "source": [
        "fig = plt.figure()\n",
        "\n",
        "df_cities_current = df_cities_current.sort_values('confirmed_per_100k_inhabitants',ascending = False)\n",
        "df_cities_current['confirmed_per_100k_inhabitants'].plot(kind='bar',figsize=(12,7)).yaxis.set_major_formatter(ticker.StrMethodFormatter('{x:,}'))\n",
        "\n",
        "plt.title('Confirmados (COVID-19) por 100k habit por Cidade')\n",
        "display()"
      ],
      "execution_count": null,
      "outputs": [
        {
          "output_type": "display_data",
          "data": {
            "image/png": "[encoded data removed]",
            "text/plain": [
              "<Figure size 864x504 with 1 Axes>"
            ]
          },
          "metadata": {
            "tags": [],
            "needs_background": "light"
          }
        }
      ]
    },
    {
      "cell_type": "code",
      "metadata": {
        "id": "5gUjuRi_imqq"
      },
      "source": [
        "df_cities_current = df_cities_current.sort_values('death_rate_per_100k_inhabitants',ascending = False)\n",
        "top_cities = df_cities_current[(df_cities_current['estimated_population']>1000000.0) & (df_cities_current['confirmed']>10000)]['city_col'][:10]\n",
        "top_cities = top_cities.to_list()\n",
        "top_cities = top_cities + ['São Paulo']\n",
        "\n",
        "df_cities_current = df_cities_current[(df_cities_current['estimated_population']>1000000.0) & (df_cities_current['confirmed']>10000) & (df_cities_current['city_col'].isin(top_cities))]\n",
        "df_cities_current = df_cities_current.drop_duplicates(keep='first')"
      ],
      "execution_count": null,
      "outputs": []
    },
    {
      "cell_type": "code",
      "metadata": {
        "id": "i_BLq_s4hDwg",
        "colab": {
          "base_uri": "https://localhost:8080/",
          "height": 521
        },
        "outputId": "00fb39ac-308a-4365-8c30-a23aa9c1f916"
      },
      "source": [
        "fig = plt.figure()\n",
        "\n",
        "df_cities_current = df_cities_current.sort_values('death_rate_per_100k_inhabitants',ascending = False)\n",
        "df_cities_current['death_rate_per_100k_inhabitants'].plot(kind='bar',figsize=(12,7)).yaxis.set_major_formatter(ticker.StrMethodFormatter('{x:,}'))\n",
        "\n",
        "plt.title('Mortalidade (COVID-19) por 100k habit por Cidade')\n",
        "display()"
      ],
      "execution_count": null,
      "outputs": [
        {
          "output_type": "display_data",
          "data": {
            "image/png": "[encoded data removed]",
            "text/plain": [
              "<Figure size 864x504 with 1 Axes>"
            ]
          },
          "metadata": {
            "tags": [],
            "needs_background": "light"
          }
        }
      ]
    },
    {
      "cell_type": "markdown",
      "metadata": {
        "id": "waDKhgsC1iP0"
      },
      "source": [
        "## Análise histórica das 5 cidades com maior número de casos"
      ]
    },
    {
      "cell_type": "markdown",
      "metadata": {
        "id": "eK6-l_bWGMZm"
      },
      "source": [
        "Analisando temporalmente as 5 cidades,que tem mais de 1 milhão de habitantes e mais de 10 mil casos confirmados, com maior taxa de mortalidade por 100k habitantes, podemos ver que o surto começou em São Paulo, porém a cidade conseguiu se estabilizar em um plateau abaixo das outras cidades, com destaque para o Rio de Janeiro, com uma taxa de mortalide por 100k habitantes maior que o dobro da de São Paulo."
      ]
    },
    {
      "cell_type": "code",
      "metadata": {
        "id": "uIwjKg4K1h8M"
      },
      "source": [
        "# removida a cidade de Belém por ter um comportamente de outlier, provavelmente decorrente de um registro errado de dados [seria a posição top_confirmed_ct[2]]\n",
        "\n",
        "top_confirmed_ct = df_cities_current[:6]['city_col']\n",
        "top_confirmed_ct = top_confirmed_ct.to_list()\n",
        "top_confirmed_ct_0 = top_confirmed_ct[0]\n",
        "top_confirmed_ct_1 = top_confirmed_ct[1]\n",
        "top_confirmed_ct_2 = top_confirmed_ct[3]\n",
        "top_confirmed_ct_3 = top_confirmed_ct[4]\n",
        "top_confirmed_ct_4 = top_confirmed_ct[5]\n",
        "\n",
        "df_top_5_ct = df.copy()\n",
        "df_top_5_ct = df_top_5_ct.loc[((df_top_5_ct['city'] == top_confirmed_ct_0) | (df_top_5_ct['city'] == top_confirmed_ct_1) | (df_top_5_ct['city'] == top_confirmed_ct_2)| (df_top_5_ct['city'] == top_confirmed_ct_3) | (df_top_5_ct['city'] == top_confirmed_ct_4)) & (df_top_5_ct['place_type'] == 'city')]\n",
        "df_top_5_ct.index = df_top_5_ct.week_number\n",
        "df_top_5_ct = df_top_5_ct.sort_index().sort_values(['date','city'])\n",
        "df_top_5_ct = df_top_5_ct.drop(columns=['order_for_place','is_last','estimated_population_2019','estimated_population','city_ibge_code','place_type','week_number'])\n",
        "df_top_5_ct = df_top_5_ct.groupby(['week_number','city']).max([['confirmed','deaths','confirmed_per_100k_inhabitants','death_rate_per_100k_inhabitants','date']])\n",
        "df_top_5_ct = df_top_5_ct.reset_index(level=[1])\n",
        "df_top_5_ct['death_rate_per_100k_inhabitants'] = round(df_top_5_ct['death_rate_per_100k_inhabitants'],3)"
      ],
      "execution_count": null,
      "outputs": []
    },
    {
      "cell_type": "code",
      "metadata": {
        "id": "ihzkM_y81hwt",
        "colab": {
          "base_uri": "https://localhost:8080/",
          "height": 515
        },
        "outputId": "6a30a5d6-9ce5-47b6-ef5c-3f77286bcceb"
      },
      "source": [
        "plt.figure(figsize=(15,8))\n",
        "c = sns.lineplot(data=df_top_5_ct, x=df_top_5_ct.index, y=\"death_rate_per_100k_inhabitants\", hue=\"city\")\n",
        "\n",
        "c.yaxis.set_major_formatter(ticker.StrMethodFormatter('{x:,.2f}'))\n",
        "c.axes.set_title(\"Mortalidade acumulada por 100k habitantes\",fontsize=15)\n",
        "c.set_xlabel(\"Semana de 2020\",fontsize=10)\n",
        "c.set_ylabel(\"# Mortalidade/100k hab\",fontsize=10)\n",
        "c.tick_params(labelsize=10)\n",
        "plt.setp(c.get_legend().get_texts(), fontsize='10') # for legend text\n",
        "plt.setp(c.get_legend().get_title(), fontsize='10') # for legend title\n",
        "display()"
      ],
      "execution_count": null,
      "outputs": [
        {
          "output_type": "display_data",
          "data": {
            "image/png": "[encoded data removed]",
            "text/plain": [
              "<Figure size 1080x576 with 1 Axes>"
            ]
          },
          "metadata": {
            "tags": [],
            "needs_background": "light"
          }
        }
      ]
    }
  ]
}
